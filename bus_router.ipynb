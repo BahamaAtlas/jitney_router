{
 "cells": [
  {
   "cell_type": "code",
   "execution_count": 1,
   "id": "39525599-2e98-4001-b3a8-9dcfabdad846",
   "metadata": {},
   "outputs": [
    {
     "name": "stderr",
     "output_type": "stream",
     "text": [
      "C:\\ProgramData\\Anaconda3\\envs\\basin_cutout\\lib\\site-packages\\geopandas\\_compat.py:111: UserWarning: The Shapely GEOS version (3.9.1dev-CAPI-1.14.1) is incompatible with the GEOS version PyGEOS was compiled with (3.9.1-CAPI-1.14.2). Conversions between both will be slow.\n",
      "  warnings.warn(\n"
     ]
    }
   ],
   "source": [
    "import csv\n",
    "import pandas as pd\n",
    "import geopandas as gpd\n",
    "# import osmnx as ox\n",
    "import os\n",
    "from shapely.geometry import LineString"
   ]
  },
  {
   "cell_type": "code",
   "execution_count": 2,
   "id": "381edf85-71d2-4b90-8687-27e03737f23d",
   "metadata": {},
   "outputs": [
    {
     "data": {
      "text/plain": [
       "'C:\\\\Users\\\\tthompson\\\\Documents\\\\GIS\\\\Bus_Routes\\\\code'"
      ]
     },
     "execution_count": 2,
     "metadata": {},
     "output_type": "execute_result"
    }
   ],
   "source": [
    "os.getcwd()"
   ]
  },
  {
   "cell_type": "code",
   "execution_count": 3,
   "id": "baa5b92a-ee19-401e-b9e2-69aea1ab9f21",
   "metadata": {
    "jupyter": {
     "source_hidden": true
    },
    "tags": []
   },
   "outputs": [],
   "source": [
    "def create_bus_route_csvs(pdf_text):\n",
    "    # Split the text into individual routes\n",
    "    routes = pdf_text.split(\"ROUTE #\")[1:]\n",
    "\n",
    "    # Iterate over each route\n",
    "    for route in routes:\n",
    "        # Extract the service area\n",
    "        service_area = route.split('\\n')[0].strip()\n",
    "\n",
    "        # Extract the route number and starting point\n",
    "#         route_info = route.split('\\n')[1].strip().split(' ')\n",
    "        route_number = route[0]\n",
    "#         starting_point = ' '.join(route_info[2:])\n",
    "        starting_point = route.split('\\n')[0]\n",
    "\n",
    "        # Extract the street names\n",
    "#         street_names = route.split('\\n')[2].split('/')\n",
    "        street_names = route.split('\\n')[1].split('/')\n",
    "#         street_names = [name.strip() for name in street_names]\n",
    "\n",
    "        # Create a new CSV file for the route\n",
    "        csv_filename = f'Route_{starting_point}.csv'\n",
    "#         with open(csv_filename, 'w', newline='') as csvfile:\n",
    "#             writer = csv.writer(csvfile)\n",
    "# #             writer.writerow(['Service Area', 'Route Number', 'Starting Point', 'Street Names'])\n",
    "#             writer.writerow(['Route Number', 'Starting Point', 'Street Names'])\n",
    "#             writer.writerow([route_number, starting_point, '/'.join(street_names)])\n",
    "# #             writer.writerows([route_number, starting_point, street_names])\n",
    "        df = pd.DataFrame(columns = ['Service Area', 'Route Number', 'Starting Point', 'Street Names'])\n",
    "        df['Street Names'] = street_names\n",
    "        df['Service Area'] = service_area\n",
    "        df['Route Number'] = route_number\n",
    "        df['Starting Point'] = starting_point\n",
    "        df.to_csv(f'{csv_filename}')\n",
    "\n",
    "        print(f'Created CSV file for Route {route_number}')"
   ]
  },
  {
   "cell_type": "code",
   "execution_count": 29,
   "id": "6cdced38-5445-40c3-9a41-6f20b8dfa6aa",
   "metadata": {
    "tags": []
   },
   "outputs": [],
   "source": [
    "# Example usage\n",
    "pdf_text = \"\"\"\n",
    "ENGLERSTON\n",
    "ROUTE #1 Starting Point: East Hill Street\n",
    "East Hill street/East Street/Bay Street/Mackey Street/Rosetta Street/Mount Royal Avenue/Madeira Street/Mackey Street/Wulff Road/Claridge Road/Balfour Avenue/East Street/East Hill Street Depot/Shirley Street/Princess/Duke/Bay Street\n",
    "\n",
    "ENGLERSTON\n",
    "ROUTE #1A Starting Point: East Street and Robinson Road\n",
    "East Street/Balfour Avenue/Minnie Street/East Street/East Hill Street/East Street/Bay Street/Mackey Street/Rosetta Street/Mount Royal Avenue/Madeira Street/Mackey Street/Wulff Road/Pinedale/Balfour Avenue/Minnie Street/Robinson Road\n",
    "\n",
    "GRANT’S TOWN/ST. MICHAELS\n",
    "ROUTE #2 Starting Point: East Hill Street\n",
    "East Hill Street/East Street/Shirley Street/Princess Street/Duke Street/Cumberland Street/Navy Lion Road/Bay Street/Frederick Street/Princess Street/Duke Street/Blue Hill Road/Lewis Street/Market Street/Ross Corner/East Street/Soldier Road\n",
    "\n",
    "GRANT’S TOWN/ST. MICHAELS\n",
    "ROUTE #2A - Starting Point: East Street and Soldier Road\n",
    "Soldier Road (West)/Baillou Road/Robinson Road/Grove Street/Bahama Avenue/East Street/To East Street Depot/East Street/Shirley Street/Princess Street/Market Street/Ross Corner/East Street/Soldier Road\n",
    "\n",
    "GRANT’S TOWN/ST. MICHAELS\n",
    "ROUTE #3\n",
    "Baillou Hill Road/Robinson road/Marathon Road/Wulff Road/Mackey Street/Maderia Street/Collins Avenue/Shirley Street/East Street/Bay Street/Mackey Street/Wulff Road/Marathon Road/Robinson Road/Baillou Road\n",
    "\n",
    "GRANT’S TOWN/ST. MICHAELS\n",
    "ROUTE #3A Starting Point: Corner Soldier Road and Old Trail Road\n",
    "Old Trail Road to Solomon’s Wholesale/Soldier Road/Wulff Road/Mackey Street/Maderia Street/Collins Avenue/Shirley Street/Princess Street/Duke Street/Cumberland Street/Navy Lion Road/Bay Street/Mackey Street/Wulff Road/Prince Charles Avenue/Old Trail Road.\n",
    "\n",
    "GRANT’S TOWN/ST. MICHAELS\n",
    "ROUTE #4 Starting Point: East Hill Street Depot\n",
    "East Hill Street/Market Street/Lewis Street/Baillou Hill Road (North)/Cumberland Street/Navy Lion Road/Bay Street/Frederick Street/Market Street/Robinson Road/\n",
    "Robinson Road/ Baillou Hill Road.\n",
    "\n",
    "GRANT’S TOWN/ST. MICHAELS\n",
    "ROUTE #4A Starting Point: Corner Baillou Hill road and Robinson Road\n",
    "Robinson Road/Baillou Hill road/Cumberland Street/Navy Lion Road/Bay Street/Frederick Street/Mackey Street/Robinson Road/Robinson Road/ Baillou Hill Road.\n",
    "\n",
    "KENNEDY SUBDIVISION/SOLDIER ROAD\n",
    "ROUTE #5 – Starting Point: Kennedy and Malcolm Road \n",
    "Kennedy Road/Soldier Road/Village Road/Shirley Street/Princess Street/Duke Street/Cumberland Street/Bay Street/Frederick Street/Market Street/Robinson Road/Blue Hill Road/Soldier Road/Kennedy Road\n",
    "\n",
    "KENNEDY SUBDIVISION/MALCOLM ROAD\n",
    "ROUTE #5a Starting Point: Kennedy Sub Division\n",
    "Kennedy Sub Division/soldier Road/Robinson Road/Marathon Road/Wulff Road/Mackey Street/Shirley Street/Princess Street/Duke Street/Cumberland Street/Navy Lion Road/Bay Street/Frederick Street/Market Street/Robinson Road/Blue Hill Road/Malcolm Road/Malcolm Road/Kennedy Road\n",
    "\n",
    "Blue Hill Road And Market Street Shuttle\n",
    "ROUTE #6 Starting Point: Market Street And Robinson Road\n",
    "Market Street/Robinson Road/Blue Hill Road/Cumberland Street/Navy Lion Road/Bay Street/Frederick Street/Princess Street/Market Street\n",
    "\n",
    "BIG POND SUB DIVISION\n",
    "ROUTE #6A Starting Point: Baillou Hill Road and Robinson Road\n",
    "Baillou Hill Road/Tucker Road/Thompson Boulevard/Poinciana Drive/Baillou Hill Road/Cumberland Street/Navy Lion Road/Bay Street/Frederick Street/Market Street/Robinson Road/to corner of Baillou Hill Road/ Robinson Road\n",
    "\n",
    "KEMP ROAD/ENGLERSTON\n",
    "ROUTE #7 - Starting Point: East Hill Street\n",
    "East Street/Shirley Street/Princess Street/Duke Street/Cumberland Street/Navy Lion Road/Bay Street/Fowler Street/Kemp Road/Wulff Road/Jerome Avenue/Pyfrom Road/Bar 20 Corner/Mackey Street/Rosetta Street/Collins Avenue/Shirley Street/East Street/East Hill Street\n",
    "\n",
    "KEMP ROAD/ENGLERSTON\n",
    "ROUTE #7A Starting Point: East Hill Street\n",
    "East Street/Shirley Street/Princess Street/Duke Street/Cumberland Street/Navy Lion Road/Bay Street/Fowler Street/Kemp Road/Wulff Road/Minnie Street/Balfour Avenue/East Street\n",
    "\n",
    "YELLOW ELDER/PRINCESS MARGARET HOSPITAL\n",
    "ROUTE #8 Starting Point: Bust Depot Blue Hill Road by Town Centre Mall\n",
    "Graham Avenue/Melvern Road/Bethel Avenue/return to Yellow Elder/Graham Drive/Blue Hill Road/Cumberland Street/Navy Lion Road/Bay Street/Elizabeth Avenue/Sands Road/East Street/East Hill Street/Mackey Street/Wulff Road/Poinciana Drive/Thompson Boulevard/Yellow Elder Way/Graham Avenue/Bethel Avenue/Yellow Elder/Graham Drive.\n",
    "\n",
    "YELLOW ELDER/PRINCESS MARGARET HOSPITAL\n",
    "ROUTE #8A Starting Point: Bus Depot Blue Hill Road by Town Centre Mall\n",
    "Graham Avenue/Yellow Elder Gardens/Bethel Avenue/Thompson Boulevard/Poinciana Drive/Blue Hill Road/Cumberland Street/navy Lion Road/Bay Street/Elizabeth Avenue/Sands Road/East Street/East Hill Street/Market Street/Wulff Road/Blue Hill Road/ to Town Centre Mall\n",
    "\n",
    "FOX HILL/ELIZABETH ESTATES\n",
    "ROUTE #9 Starting Point: East Hill Street Depot\n",
    "East Street/Parliament Street/Bay Street/Village Road/Bernard Road/Fox Hill Road/Prince Charles Avenue/to Winton Shopping Centre/Return to Prince Charles Avenue/Fox Hill Road/Adderley Street/Johnson Road/Eastern Road/Shirley Street/East Street/East Hill Street\n",
    "\n",
    "FOX HILL/ELIZABETH ESTATES\n",
    "ROUTE #9A Starting Point: East Hill Street Depot\n",
    "East Street/Parliament Street/Bay Street/Eastern Road/Winton Highway/Culbert Hill Road/Prince Charles Drive/Meadows Drive/Yamacraw Road/Commonwealth Boulevard/Elizabeth Estate/Prince Charles Drive/Fox Hill Road/Bernard Road/Village Road/Shirley Street/East Street/East Hill Street\n",
    "\n",
    "FOX HILL/ELIZABETH ESTATES\n",
    "ROUTE #9B Starting Point: East Hill Street Depot\n",
    "East Street/Parliament Street/Bay Street/Eastern Road/Winton Highway/Culbert Hill Road/Prince Charles Drive/Meadows Drive/Yamacraw Road/Commonwealth Boulevard/Elizabeth Estate/Prince Charles Drive/Fox Hill Road/Bernard Road/Village Road/Shirley Street/East Street/East Hill Street\n",
    "\n",
    "CABLE BEACH\n",
    "ROUTE #10 Starting Point: East Hill Street Depot\n",
    "George Street/Duke Street/Cumberland Street/West Bay Street/Cable Beach/Delaporte/Orange Hill/Compass Point/Bay Street/George Street\n",
    "\n",
    "CABLE BEACH/FARRINGTON ROAD\n",
    "ROUTE #10A Starting Point: East Hill Street Depot\n",
    "East Street/Shirley Street/Princess Street/Market Street/Wulff Road/Poinciana Drive/Carter Street/Horseshoe Drive/Ajax Street/Farrington Road/John F Kennedy Drive/Prospect Ridge/Cable Beach/Sandyport/Skyline Drive/Prospect Ridge/John F. Kennedy Drive/Farrington Road/Ajax Road/Horseshoe Drive/Carter Street/Nassau Street/Meeting Street/Baillou Hill Road/Cumberland Street/Navy Lion Road/Bay Street/Frederick Street South\n",
    "\n",
    "CHIPPINGHAM/OAKES FIELD\n",
    "ROUTE #10B Starting Point: George Street and Duke Street\n",
    "George Street/Duke Street/Cumberland Street/West Bay Street/Nassau Street/Thompson Boulevard/Davis Street/Warren Street/Farrington Road/Hibiscus Road/Wallace Road/Churchhill Avenue/Eden Street North/Sydney Street/Dunmore Avenue/Chippingham Road/Columbus/St. Alban’s Drive/West Bay Street/Marlboro Street\n",
    "\n",
    "ELIZABETH ESTATES\n",
    "ROUTE #11\n",
    "Elizabeth Estates via Commonwealth Boulevard/Prince Charles Drive/Fox Hill Road/Bernard Road/Wulff Road/Collins Avenue/Shirley Street/East Street/Woodes Rodgers Wharf/Parliament Street/Bay Street/Village Road/Bernard Road/Fox Hill Road/Prince Charles Drive/Elizabeth Estate/Commonwealth Boulevard/Yamacraw Road\n",
    "\n",
    "ELIZABETH ESTATES\n",
    "ROUTE #11A Starting Point: Elizabeth Estate\n",
    "Commonwealth Boulevard/Yamacraw Road/Joe Farrington Road/Sea Breeze/Beatrice Avenue/Prince Charles Drive/Soldier Road/Village Road/Shirley Street/Princess Street/Market Street/Robinson Road/Elizabeth Estates\n",
    "\n",
    "CORAL HARBOUR, LYFORD CAY AND AIRPORT\n",
    "ROUTE #12 Starting Point: Coral Harbour\n",
    "Coral Harbour Roundabout/Adelaide road/Clifton Pier Road/Mt. Pleasant/Lyford Cay/John F. Kennedy Drive/Blake Road/West Bay Street/Cable Beach/Marlborough Street/Navy Lion Road/Bay Street/Frederick Street/Princess Street/Baillou Hill Road/Carmichael Road to Coral Harbour Roundabout\n",
    "\n",
    "CARMICHAEL ROAD/FARRINGTON ROAD\n",
    "ROUTE #14 Starting Point: Bacardi Road\n",
    "Carmichael Road/Faith Avenue/Sir Milo Butler Highway/Harold Road/Union City/Christie Avenue/McKinney Avenue/Bethel Avenue/John F. Kennedy Drive/Farrington Road Boyd Road/Nassau Street/Meeting Street/Dillet Street/Blue Hill Road Cumberland Street/Navy Lion Road/Bay Street/Frederick Street/Duke Street/Princess Street/Blue Hill Road/Meeting Street/Nassau Street/Boyd Street/Farrington Road/Rock Crusher Road/John F. Kennedy Drive/Bethel Avenue/Sir Milo Butler Highway/Faith Avenue/Carmichael Road/Barcardi Road\n",
    "\n",
    "JUBILEE GARDENS\n",
    "ROUTE #14A Starting Point: Bacardi Road\n",
    "Carmichael Road/Gladstone Road (extended new sub divisions)/Firetrail Road/Jubilee Gardens/McKinney Drive/Carmichael Road/Blue Hill Road/Cumberland Street/Navy Lion Road /Bay St./Fredrick St./Princess St./Market St./Lewis St./Blue Hill Rd./Meeting Street/Nassau Street/Boyd Road/Farrington Road/John F. Kennedy Drive/Bethel Avenue/Sir Milo Butler Highway/Faith Avenue/Carmichael Road/Barcardi Road\n",
    "\n",
    "YAMACRAW/WINTON\n",
    "ROUTE #15 Starting Point: Winton Shopping Centre\n",
    "Prince Charles Avenue/Commonwealth Boulevard/Yamacraw Road/Fox Hill Road/Prince Charges Drive/Robinson Road/Blue Hill Road/Cumberland Street/Navy Lion Road/Bay Street/Frederick Street/Princess Street/Duke Street/Blue Hill Road/Robinson Road/Prince Charles Drive/Prince Charles Avenue/Winton Shopping Center\n",
    "\n",
    "YAMACRAW/WINTON\n",
    "ROUTE #15A\n",
    "Prince Charles Avenue/Robinson/Blue Hill Road/Cumberland Street/Navy Lion Road/Bay Street/Frederick Street/Princess Street/Duke Street/Blue Hill Road/Robinson Road/Prince Charles Drive/Fox Hill Road/Yamacraw Road/Commonwealth Boulevard/Winton Shopping Centre\n",
    "\n",
    "FLAMINGO GARDENS\n",
    "ROUTE #16\n",
    "Faith Avenue/Sir Milo Butler Highway/Bethel Avenue/Thompson Boulevard/Poinciana Drive/Blue Hill Road/Cumberland Street/Navy Lion Road/Bay Street/Elizabeth Avenue/Shirley Street/Princess Street/Duke Street/Blue Hill road/Carmichael Road/Flamingo Gardens\n",
    "\n",
    "BACARDI ROAD\n",
    "ROUTE #16A\n",
    "Carmichael Road/Flamingo Gardens/Carmichael Road/Blue Hill Road/Cumberland Street/Navy Lion Road/Bay Street/Elizabeth Avenue/Shirley Street/Princess Street/Duke Street/Blue Hill Road/Carmichael Road/to Barcardi Road\n",
    "\n",
    "ADELAIDE\n",
    "ROUTE #16B\n",
    "Adelaide Road/Coral Harbour/Carmichael Road/Blue Hill Road (South)/Summer Haven/East Street/East Hill Street/East Street/Bay Street/Elizabeth Avenue/Shirley Street/East Street\n",
    "\n",
    "SEABREEZE/PRINCE CHARLES SHOPPING CENTRE/MARATHON MALL\n",
    "ROUTE #17 Starting Point: Fox Hill Road and Prince Charles Drive\n",
    "Fox Hill Road/Joe Farrington road/Golf Course Boulevard/Beatrice Avenue/Prince Charles Drive/St. Michael Road/soldier Road/Old Trail Road/Robinson Road/Marathon Road/Wulff Road/Jerome Avenue/Pyfrom Road/Mackey Street/Rosetta Street/Collins Avenue/Shirley Street/East Street/East Hill Street Depot/Market Street/Duke Street/Cumberland Street/Navy Lion Road/Bay Street/Village Road/Prince Charles Drive/Fox Hill Road\n",
    "\n",
    "SEABREEZE/PRINCE CHARLES SHOPPING CENTRE/MARATHON MALL\n",
    "ROUTE #17A Starting Point Fox Hill Prison\n",
    "Fox Hill Road/Prince Charles Avenue/Soldier Road/Village Road/Shirley Street/East Street/East Hill Street Depot/Market Street/Duke Street/Cumberland Street/Navy Lion Road/Bay Street/Village Road/Wulff Road/Marathon road/Robinson Road/Old Trail Road/Soldier Road/Prince Charles Drive/Beatrice Avenue/Joe Farrington Road/Return to Fox Hill Road\n",
    "\n",
    "JASMINE GARDENS/JOAN’S HEIGHT\n",
    "ROUTE #18 Starting Point City Market Shopping Centre East Street\n",
    "East Street/Joan’s Height/New Hope Drive South/New Hope Drive to Victoria Boulevard West/Victoria Drive/to 3rd Corner on the north side of Victoria Drive/return to Victoria Boulevard/Ferguson Drive/Roberts Drive/Antonio Drive/south east on Antonio Drive to Victoria Boulevard/East street south/north on East Street to East Hill Street Depot/return to East/Shirley Street/Princess Street/Duke Street/Cumberland Street/Navy Lion Road/Bay Street/Frederick Street/Baillou Hill Road/East Street/Return to City Market Shopping Centre\n",
    "\n",
    "NASSAU VILLAGE\n",
    "ROUTE #19 Starting Point: Nassau Village Entrance to Prince Charles Shopping Centre\n",
    "Prince Charles Derive/St. Michael Road/Soldier Road/West on Soldier Road/Taylor Street/Emerelda Avenue/Alexander Boulevard East and all side streets/to Alexander Boulevard west/Windsor Place Road/Soldier Road east on Soldier Road/Old Trail Road/to Solomon’s Wholesale/Robinson Road/Marathon Road/Wulff Road/Mackey Street/Madeira Street/Collins Avenue/Shirley Street/East Street/Woodes Rodgers Wharf/Parliament Street/Bay Street/Village Road/Soldier Road/Prince Charles Drive/return to Prince Charles Shopping Centre\n",
    "\n",
    "GOLDEN GATES\n",
    "ROUTE #20 Starting Point: Golden Gates Shopping Centre (Garden Hills)\n",
    "(Zion Way)Jasmine Gardens/Cowpen Road/New Birth Subdivision/St. Vincent Road/Baillou Hill Road/Sisal Road/Lobster Drive/Bird Road/Mutton Fish Drive/Jumbey Drive/Sisal Road East/Malcolm Road/West on Malcolm Road/Richville Drive/Soldier Road/Baillou Hill Road/Cumberland Street/Navy Lion Road/Bay Street/Elizabeth Avenue/Shirley Street/Princess Street/Duke Street/Baillou Hill Road/Cowpen Road\n",
    "\n",
    "PINEWOOD GARDENS\n",
    "ROUTE #21\n",
    "South Beach Complex via East Street/Bamboo Boulevard/Thatch Palm Avenue/Sapodilla Boulevard/East on Sapodilla Street/Willow Tree Street/Pinewood Drive/East on Pine Wood Drive/Buttonwood Street/Sapodilla Boulevard/Thatch Palm Avenue/Bamboo Boulevard/East Street/Bay Street/Christie Avenue/Wulff Road/Marathon Road/Robinson Road/Old Trail Road/Soldier Road/Windsor Place Road/Sapodilla Boulevard/Willow Tree Road/Pinewood Drive/Bamboo Boulevard/South Beach Complex\n",
    "\n",
    "PINEWOOD GARDENS\n",
    "ROUTE #21A\n",
    "Blue Hill Road South/Blue Hill Road/Summer Haven/East Street/Bamboo Boulevard/Buttonwood Street/Sapodilla Boulevard/Kennedy Subdivision/Soldier Road/East Street/East Hill Street/East Street/Bay Street/Elizabeth Street/Shirley Street/Princess Street/Duke Street/Blue Hill Road/to starting point at intersection of Malcolm Road and Blue Hill Road\n",
    "\n",
    "ST. VINCENT ROAD/EMERAL GARDENS\n",
    "ROUTE #22 Starting Point Golden Gates Shopping Centre\n",
    "South on Baillou Hill Road/St. Vincent Avenue/Antigua Street/Mermaid Boulevard East/Mermaid Boulevard West/Carmichael Road/Turtle Drive/Ambergris/Faith Avenue/North along Faith Avenue/Sir Milo Butler Highway/Union City/Harold Road/Bethel Avenue/Thompson Boulevard/Nassau Street/Meeting Street/Dillet Street/Baillou Hill Road/Cumberland Street/Navy Lion Road/Bay Street/Elizabeth Avenue/East Street/East Hill Street Depot/return to East Street/Wulff Road/Market Street/Robinson Road/Baillou Hill Road to Golden Gates Shopping Centre\n",
    "\n",
    "ST. VINCENT ROAD\n",
    "ROUTE #22A Starting Point: Baillou Hill Road and Cowpen Road\n",
    "Cowpen Road/New Bight Sub Division/St Vincent Road/Baillou Hill Road/Cumberland Street/Navy Lion Road/Frederick Street/Princess Street/Market Street/Depot return to Market Street/Lewis Street/Baillou Hill Road/Poinciana Avenue/Thompson Boulevard/John F. Kennedy Drive/Bethel Avenue/Sir Milo Butler Highway/Fire Trail Road East/Carmichael Road/Faith Avenue/St. Vincent Road/New Bight Subdivision/Cowpen Road\n",
    "\n",
    "KEMP ROAD\n",
    "ROUTE #23 Starting Point: Corner Soldier Road and East Street\n",
    "East Street/Wulff Road/East to Kemp Road/Shirley Street/East Street/East Hill Street/Mackey Street/Lewis Street/Blue Hill Road/Cumberland Street/Navy Lion Road/Bay Street/Fowler Street/Kemp Road/Wulff Road/Palm Beach Street/Cordeaux Avenue/East Street/return to East Street and Soldier Road\n",
    "\"\"\""
   ]
  },
  {
   "cell_type": "code",
   "execution_count": 144,
   "id": "ac35632d-8d7a-4f4b-8660-8ac79373f1e7",
   "metadata": {
    "jupyter": {
     "source_hidden": true
    },
    "tags": []
   },
   "outputs": [],
   "source": [
    "# Example usage\n",
    "pdf_text = \"\"\"\n",
    "ROUTE #1 Starting Point: East Hill Street\n",
    "East Hill street/East Street/Bay Street/Mackey Street/Rosetta Street/Mount Royal Avenue/Madeira Street/Mackey Street/Wulff Road/Claridge Road/Balfour Avenue/East Street/East Hill Street Depot/Shirley Street/Princess/Duke/Bay Street\n",
    "\n",
    "ROUTE #1A Starting Point: East Street and Robinson Road\n",
    "East Street/Balfour Avenue/Minnie Street/East Street/East Hill Street/East Street/Bay Street/Mackey Street/Rosetta Street/Mount Royal Avenue/Madeira Street/Mackey Street/Wulff Road/Pinedale/Balfour Avenue/Minnie Street/Robinson Road\n",
    "\n",
    "ROUTE #2 Starting Point: East Hill Street\n",
    "East Hill Street/East Street/Shirley Street/Princess Street/Duke Street/Cumberland Street/Navy Lion Road/Bay Street/Frederick Street/Princess Street/Duke Street/Blue Hill Road/Lewis Street/Market Street/Ross Corner/East Street/Soldier Road\n",
    "\n",
    "ROUTE #2A - Starting Point: East Street and Soldier Road\n",
    "Soldier Road (West)/Baillou Road/Robinson Road/Grove Street/Bahama Avenue/East Street/To East Street Depot/East Street/Shirley Street/Princess Street/Market Street/Ross Corner/East Street/Soldier Road\n",
    "\n",
    "ROUTE #3 Starting Point: Baillou Hill Road\n",
    "Baillou Hill Road/Robinson road/Marathon Road/Wulff Road/Mackey Street/Maderia Street/Collins Avenue/Shirley Street/East Street/Bay Street/Mackey Street/Wulff Road/Marathon Road/Robinson Road/Baillou Road\n",
    "\n",
    "ROUTE #3A Starting Point: Corner Soldier Road and Old Trail Road\n",
    "Old Trail Road to Solomon’s Wholesale/Soldier Road/Wulff Road/Mackey Street/Maderia Street/Collins Avenue/Shirley Street/Princess Street/Duke Street/Cumberland Street/Navy Lion Road/Bay Street/Mackey Street/Wulff Road/Prince Charles Avenue/Old Trail Road.\n",
    "\n",
    "ROUTE #4 Starting Point: East Hill Street Depot\n",
    "East Hill Street/Market Street/Lewis Street/Baillou Hill Road (North)/Cumberland Street/Navy Lion Road/Bay Street/Frederick Street/Market Street/Robinson Road/\n",
    "Robinson Road/ Baillou Hill Road.\n",
    "\n",
    "ROUTE #4A Starting Point: Corner Baillou Hill road and Robinson Road\n",
    "Robinson Road/Baillou Hill road/Cumberland Street/Navy Lion Road/Bay Street/Frederick Street/Mackey Street/Robinson Road/Robinson Road/ Baillou Hill Road.\n",
    "\n",
    "ROUTE #5 – Starting Point: Kennedy and Malcolm Road \n",
    "Kennedy Road/Soldier Road/Village Road/Shirley Street/Princess Street/Duke Street/Cumberland Street/Bay Street/Frederick Street/Market Street/Robinson Road/Blue Hill Road/Soldier Road/Kennedy Road\n",
    "\n",
    "ROUTE #5a Starting Point: Kennedy Sub Division\n",
    "Kennedy Sub Division/soldier Road/Robinson Road/Marathon Road/Wulff Road/Mackey Street/Shirley Street/Princess Street/Duke Street/Cumberland Street/Navy Lion Road/Bay Street/Frederick Street/Market Street/Robinson Road/Blue Hill Road/Malcolm Road/Malcolm Road/Kennedy Road\n",
    "\n",
    "ROUTE #6 Starting Point: Market Street And Robinson Road\n",
    "Market Street/Robinson Road/Blue Hill Road/Cumberland Street/Navy Lion Road/Bay Street/Frederick Street/Princess Street/Market Street\n",
    "\n",
    "ROUTE #6A Starting Point: Baillou Hill Road and Robinson Road\n",
    "Baillou Hill Road/Tucker Road/Thompson Boulevard/Poinciana Drive/Baillou Hill Road/Cumberland Street/Navy Lion Road/Bay Street/Frederick Street/Market Street/Robinson Road/to corner of Baillou Hill Road/ Robinson Road\n",
    "\n",
    "ROUTE #7 - Starting Point: East Hill Street\n",
    "East Street/Shirley Street/Princess Street/Duke Street/Cumberland Street/Navy Lion Road/Bay Street/Fowler Street/Kemp Road/Wulff Road/Jerome Avenue/Pyfrom Road/Bar 20 Corner/Mackey Street/Rosetta Street/Collins Avenue/Shirley Street/East Street/East Hill Street\n",
    "\n",
    "ROUTE #7A Starting Point: East Hill Street\n",
    "East Street/Shirley Street/Princess Street/Duke Street/Cumberland Street/Navy Lion Road/Bay Street/Fowler Street/Kemp Road/Wulff Road/Minnie Street/Balfour Avenue/East Street\n",
    "\n",
    "ROUTE #8 Starting Point: Bust Depot Blue Hill Road by Town Centre Mall\n",
    "Graham Avenue/Melvern Road/Bethel Avenue/return to Yellow Elder/Graham Drive/Blue Hill Road/Cumberland Street/Navy Lion Road/Bay Street/Elizabeth Avenue/Sands Road/East Street/East Hill Street/Mackey Street/Wulff Road/Poinciana Drive/Thompson Boulevard/Yellow Elder Way/Graham Avenue/Bethel Avenue/Yellow Elder/Graham Drive.\n",
    "\n",
    "ROUTE #8A Starting Point: Bus Depot Blue Hill Road by Town Centre Mall\n",
    "Graham Avenue/Yellow Elder Gardens/Bethel Avenue/Thompson Boulevard/Poinciana Drive/Blue Hill Road/Cumberland Street/navy Lion Road/Bay Street/Elizabeth Avenue/Sands Road/East Street/East Hill Street/Market Street/Wulff Road/Blue Hill Road/ to Town Centre Mall\n",
    "\n",
    "ROUTE #9 Starting Point: East Hill Street Depot\n",
    "East Street/Parliament Street/Bay Street/Village Road/Bernard Road/Fox Hill Road/Prince Charles Avenue/to Winton Shopping Centre/Return to Prince Charles Avenue/Fox Hill Road/Adderley Street/Johnson Road/Eastern Road/Shirley Street/East Street/East Hill Street\n",
    "\n",
    "ROUTE #9A Starting Point: East Hill Street Depot\n",
    "East Street/Parliament Street/Bay Street/Eastern Road/Winton Highway/Culbert Hill Road/Prince Charles Drive/Meadows Drive/Yamacraw Road/Commonwealth Boulevard/Elizabeth Estate/Prince Charles Drive/Fox Hill Road/Bernard Road/Village Road/Shirley Street/East Street/East Hill Street\n",
    "\n",
    "ROUTE 9B Starting Point: East Hill Street Depot\n",
    "East Street/Parliament Street/Bay Street/Eastern Road/Winton Highway/Culbert Hill Road/Prince Charles Drive/Meadows Drive/Yamacraw Road/Commonwealth Boulevard/Elizabeth Estate/Prince Charles Drive/Fox Hill Road/Bernard Road/Village Road/Shirley Street/East Street/East Hill Street\n",
    "\n",
    "ROUTE #10 Starting Point: East Hill Street Depot\n",
    "George Street/Duke Street/Cumberland Street/West Bay Street/Cable Beach/Delaporte/Orange Hill/Compass Point/Bay Street/George Street\n",
    "\n",
    "ROUTE #10A Starting Point: East Hill Street Depot\n",
    "East Street/Shirley Street/Princess Street/Market Street/Wulff Road/Poinciana Drive/Carter Street/Horseshoe Drive/Ajax Street/Farrington Road/John F Kennedy Drive/Prospect Ridge/Cable Beach/Sandyport/Skyline Drive/Prospect Ridge/John F. Kennedy Drive/Farrington Road/Ajax Road/Horseshoe Drive/Carter Street/Nassau Street/Meeting Street/Baillou Hill Road/Cumberland Street/Navy Lion Road/Bay Street/Frederick Street South\n",
    "\n",
    "ROUTE #10B Starting Point: George Street and Duke Street\n",
    "George Street/Duke Street/Cumberland Street/West Bay Street/Nassau Street/Thompson Boulevard/Davis Street/Warren Street/Farrington Road/Hibiscus Road/Wallace Road/Churchhill Avenue/Eden Street North/Sydney Street/Dunmore Avenue/Chippingham Road/Columbus/St. Alban’s Drive/West Bay Street/Marlboro Street\n",
    "\n",
    "ROUTE #11 Starting Point: Elizabeth Estates\n",
    "Elizabeth Estates via Commonwealth Boulevard/Prince Charles Drive/Fox Hill Road/Bernard Road/Wulff Road/Collins Avenue/Shirley Street/East Street/Woodes Rodgers Wharf/Parliament Street/Bay Street/Village Road/Bernard Road/Fox Hill Road/Prince Charles Drive/Elizabeth Estate/Commonwealth Boulevard/Yamacraw Road\n",
    "\n",
    "ROUTE #11A Starting Point: Elizabeth Estate\n",
    "Commonwealth Boulevard/Yamacraw Road/Joe Farrington Road/Sea Breeze/Beatrice Avenue/Prince Charles Drive/Soldier Road/Village Road/Shirley Street/Princess Street/Market Street/Robinson Road/Elizabeth Estates\n",
    "\n",
    "ROUTE #12 Starting Point: Coral Harbour\n",
    "Coral Harbour Roundabout/Adelaide road/Clifton Pier Road/Mt. Pleasant/Lyford Cay/John F. Kennedy Drive/Blake Road/West Bay Street/Cable Beach/Marlborough Street/Navy Lion Road/Bay Street/Frederick Street/Princess Street/Baillou Hill Road/Carmichael Road to Coral Harbour Roundabout\n",
    "\n",
    "ROUTE #14 Starting Point: Bacardi Road\n",
    "Carmichael Road/Faith Avenue/Sir Milo Butler Highway/Harold Road/Union City/Christie Avenue/McKinney Avenue/Bethel Avenue/John F. Kennedy Drive/Farrington Road Boyd Road/Nassau Street/Meeting Street/Dillet Street/Blue Hill Road Cumberland Street/Navy Lion Road/Bay Street/Frederick Street/Duke Street/Princess Street/Blue Hill Road/Meeting Street/Nassau Street/Boyd Street/Farrington Road/Rock Crusher Road/John F. Kennedy Drive/Bethel Avenue/Sir Milo Butler Highway/Faith Avenue/Carmichael Road/Barcardi Road\n",
    "\n",
    "ROUTE #14A Starting Point: Bacardi Road\n",
    "Carmichael Road/Gladstone Road (extended new sub divisions)/Firetrail Road/Jubilee Gardens/McKinney Drive/Carmichael Road/Blue Hill Road/Cumberland Street/Navy Lion Road /Bay St./Fredrick St./Princess St./Market St./Lewis St./Blue Hill Rd./Meeting Street/Nassau Street/Boyd Road/Farrington Road/John F. Kennedy Drive/Bethel Avenue/Sir Milo Butler Highway/Faith Avenue/Carmichael Road/Barcardi Road\n",
    "\n",
    "ROUTE #15 Starting Point: Winton Shopping Centre\n",
    "Prince Charles Avenue/Commonwealth Boulevard/Yamacraw Road/Fox Hill Road/Prince Charges Drive/Robinson Road/Blue Hill Road/Cumberland Street/Navy Lion Road/Bay Street/Frederick Street/Princess Street/Duke Street/Blue Hill Road/Robinson Road/Prince Charles Drive/Prince Charles Avenue/Winton Shopping Center\n",
    "\n",
    "ROUTE #15A Starting Point: Prince Charles\n",
    "Prince Charles Avenue/Robinson/Blue Hill Road/Cumberland Street/Navy Lion Road/Bay Street/Frederick Street/Princess Street/Duke Street/Blue Hill Road/Robinson Road/Prince Charles Drive/Fox Hill Road/Yamacraw Road/Commonwealth Boulevard/Winton Shopping Centre\n",
    "\n",
    "ROUTE #16 Starting Point: Faith Avenue\n",
    "Faith Avenue/Sir Milo Butler Highway/Bethel Avenue/Thompson Boulevard/Poinciana Drive/Blue Hill Road/Cumberland Street/Navy Lion Road/Bay Street/Elizabeth Avenue/Shirley Street/Princess Street/Duke Street/Blue Hill road/Carmichael Road/Flamingo Gardens\n",
    "\n",
    "ROUTE #16A Starting Point: Carmichael Road\n",
    "Carmichael Road/Flamingo Gardens/Carmichael Road/Blue Hill Road/Cumberland Street/Navy Lion Road/Bay Street/Elizabeth Avenue/Shirley Street/Princess Street/Duke Street/Blue Hill Road/Carmichael Road/to Barcardi Road\n",
    "\n",
    "ROUTE #16B Starting Point: Adelaide Road\n",
    "Adelaide Road/Coral Harbour/Carmichael Road/Blue Hill Road (South)/Summer Haven/East Street/East Hill Street/East Street/Bay Street/Elizabeth Avenue/Shirley Street/East Street\n",
    "\n",
    "ROUTE #17 Starting Point: Fox Hill Road and Prince Charles Drive\n",
    "Fox Hill Road/Joe Farrington road/Golf Course Boulevard/Beatrice Avenue/Prince Charles Drive/St. Michael Road/soldier Road/Old Trail Road/Robinson Road/Marathon Road/Wulff Road/Jerome Avenue/Pyfrom Road/Mackey Street/Rosetta Street/Collins Avenue/Shirley Street/East Street/East Hill Street Depot/Market Street/Duke Street/Cumberland Street/Navy Lion Road/Bay Street/Village Road/Prince Charles Drive/Fox Hill Road\n",
    "\n",
    "ROUTE #17A Starting Point: Fox Hill Road\n",
    "Fox Hill Road/Prince Charles Avenue/Soldier Road/Village Road/Shirley Street/East Street/East Hill Street Depot/Market Street/Duke Street/Cumberland Street/Navy Lion Road/Bay Street/Village Road/Wulff Road/Marathon road/Robinson Road/Old Trail Road/Soldier Road/Prince Charles Drive/Beatrice Avenue/Joe Farrington Road/Return to Fox Hill Road\n",
    "\n",
    "ROUTE #18 Starting Point City Market Shopping Centre East Street\n",
    "East Street/Joan’s Height/New Hope Drive South/New Hope Drive to Victoria Boulevard West/Victoria Drive/to 3rd Corner on the north side of Victoria Drive/return to Victoria Boulevard/Ferguson Drive/Roberts Drive/Antonio Drive/south east on Antonio Drive to Victoria Boulevard/East street south/north on East Street to East Hill Street Depot/return to East/Shirley Street/Princess Street/Duke Street/Cumberland Street/Navy Lion Road/Bay Street/Frederick Street/Baillou Hill Road/East Street/Return to City Market Shopping Centre\n",
    "\n",
    "ROUTE #19 Starting Point: Nassau Village Entrance to Prince Charles Shopping Centre\n",
    "Prince Charles Drive/St. Michael Road/Soldier Road/West on Soldier Road/Taylor Street/Emerelda Avenue/Alexander Boulevard East and all side streets/to Alexander Boulevard west/Windsor Place Road/Soldier Road east on Soldier Road/Old Trail Road/to Solomon’s Wholesale/Robinson Road/Marathon Road/Wulff Road/Mackey Street/Madeira Street/Collins Avenue/Shirley Street/East Street/Woodes Rodgers Wharf/Parliament Street/Bay Street/Village Road/Soldier Road/Prince Charles Drive/return to Prince Charles Shopping Centre\n",
    "\n",
    "ROUTE #20 Starting Point: Golden Gates Shopping Centre (Garden Hills)\n",
    "(Zion Way)Jasmine Gardens/Cowpen Road/New Birth Subdivision/St. Vincent Road/Baillou Hill Road/Sisal Road/Lobster Drive/Bird Road/Mutton Fish Drive/Jumbey Drive/Sisal Road East/Malcolm Road/West on Malcolm Road/Richville Drive/Soldier Road/Baillou Hill Road/Cumberland Street/Navy Lion Road/Bay Street/Elizabeth Avenue/Shirley Street/Princess Street/Duke Street/Baillou Hill Road/Cowpen Road\n",
    "\n",
    "ROUTE #21 Starting Point: South Beach Complex\n",
    "South Beach Complex via East Street/Bamboo Boulevard/Thatch Palm Avenue/Sapodilla Boulevard/East on Sapodilla Street/Willow Tree Street/Pinewood Drive/East on Pine Wood Drive/Buttonwood Street/Sapodilla Boulevard/Thatch Palm Avenue/Bamboo Boulevard/East Street/Bay Street/Christie Avenue/Wulff Road/Marathon Road/Robinson Road/Old Trail Road/Soldier Road/Windsor Place Road/Sapodilla Boulevard/Willow Tree Road/Pinewood Drive/Bamboo Boulevard/South Beach Complex\n",
    "\n",
    "ROUTE #21A Starting Point: Blue Hill Road\n",
    "Blue Hill Road South/Blue Hill Road/Summer Haven/East Street/Bamboo Boulevard/Buttonwood Street/Sapodilla Boulevard/Kennedy Subdivision/Soldier Road/East Street/East Hill Street/East Street/Bay Street/Elizabeth Street/Shirley Street/Princess Street/Duke Street/Blue Hill Road/to starting point at intersection of Malcolm Road and Blue Hill Road\n",
    "\n",
    "ROUTE #22 Starting Point Golden Gates Shopping Centre\n",
    "South on Baillou Hill Road/St. Vincent Avenue/Antigua Street/Mermaid Boulevard East/Mermaid Boulevard West/Carmichael Road/Turtle Drive/Ambergris/Faith Avenue/North along Faith Avenue/Sir Milo Butler Highway/Union City/Harold Road/Bethel Avenue/Thompson Boulevard/Nassau Street/Meeting Street/Dillet Street/Baillou Hill Road/Cumberland Street/Navy Lion Road/Bay Street/Elizabeth Avenue/East Street/East Hill Street Depot/return to East Street/Wulff Road/Market Street/Robinson Road/Baillou Hill Road to Golden Gates Shopping Centre\n",
    "\n",
    "ROUTE #22A Starting Point: Baillou Hill Road and Cowpen Road\n",
    "Cowpen Road/New Bight Sub Division/St Vincent Road/Baillou Hill Road/Cumberland Street/Navy Lion Road/Frederick Street/Princess Street/Market Street/Depot return to Market Street/Lewis Street/Baillou Hill Road/Poinciana Avenue/Thompson Boulevard/John F. Kennedy Drive/Bethel Avenue/Sir Milo Butler Highway/Fire Trail Road East/Carmichael Road/Faith Avenue/St. Vincent Road/New Bight Subdivision/Cowpen Road\n",
    "\n",
    "ROUTE #23 Starting Point: Corner Soldier Road and East Street\n",
    "East Street/Wulff Road/East to Kemp Road/Shirley Street/East Street/East Hill Street/Mackey Street/Lewis Street/Blue Hill Road/Cumberland Street/Navy Lion Road/Bay Street/Fowler Street/Kemp Road/Wulff Road/Palm Beach Street/Cordeaux Avenue/East Street/return to East Street and Soldier Road\n",
    "\"\"\""
   ]
  },
  {
   "cell_type": "code",
   "execution_count": 183,
   "id": "bbf4867a-809f-4136-b766-f1fb71215373",
   "metadata": {
    "collapsed": true,
    "jupyter": {
     "outputs_hidden": true,
     "source_hidden": true
    },
    "tags": []
   },
   "outputs": [
    {
     "name": "stdout",
     "output_type": "stream",
     "text": [
      "Created CSV file for Route 1\n",
      "Created CSV file for Route 1\n",
      "Created CSV file for Route 2\n",
      "Created CSV file for Route 2\n",
      "Created CSV file for Route 3\n",
      "Created CSV file for Route 3\n",
      "Created CSV file for Route 4\n",
      "Created CSV file for Route 4\n",
      "Created CSV file for Route 5\n",
      "Created CSV file for Route 5\n",
      "Created CSV file for Route 6\n",
      "Created CSV file for Route 6\n",
      "Created CSV file for Route 7\n",
      "Created CSV file for Route 7\n",
      "Created CSV file for Route 8\n",
      "Created CSV file for Route 8\n",
      "Created CSV file for Route 9\n",
      "Created CSV file for Route 9\n",
      "Created CSV file for Route 1\n",
      "Created CSV file for Route 1\n",
      "Created CSV file for Route 1\n",
      "Created CSV file for Route 1\n",
      "Created CSV file for Route 1\n",
      "Created CSV file for Route 1\n",
      "Created CSV file for Route 1\n",
      "Created CSV file for Route 1\n",
      "Created CSV file for Route 1\n",
      "Created CSV file for Route 1\n",
      "Created CSV file for Route 1\n",
      "Created CSV file for Route 1\n",
      "Created CSV file for Route 1\n",
      "Created CSV file for Route 1\n",
      "Created CSV file for Route 1\n",
      "Created CSV file for Route 1\n",
      "Created CSV file for Route 1\n",
      "Created CSV file for Route 2\n",
      "Created CSV file for Route 2\n",
      "Created CSV file for Route 2\n",
      "Created CSV file for Route 2\n",
      "Created CSV file for Route 2\n",
      "Created CSV file for Route 2\n"
     ]
    }
   ],
   "source": [
    "create_bus_route_csvs(pdf_text)"
   ]
  },
  {
   "cell_type": "code",
   "execution_count": 31,
   "id": "83de3238-37e7-4b0c-91e5-4f95fee7ff11",
   "metadata": {
    "collapsed": true,
    "jupyter": {
     "outputs_hidden": true
    },
    "tags": []
   },
   "outputs": [
    {
     "data": {
      "text/plain": [
       "['1 Starting Point: East Hill Street\\nEast Hill street/East Street/Bay Street/Mackey Street/Rosetta Street/Mount Royal Avenue/Madeira Street/Mackey Street/Wulff Road/Claridge Road/Balfour Avenue/East Street/East Hill Street Depot/Shirley Street/Princess/Duke/Bay Street\\n\\nENGLERSTON\\n',\n",
       " '1A Starting Point: East Street and Robinson Road\\nEast Street/Balfour Avenue/Minnie Street/East Street/East Hill Street/East Street/Bay Street/Mackey Street/Rosetta Street/Mount Royal Avenue/Madeira Street/Mackey Street/Wulff Road/Pinedale/Balfour Avenue/Minnie Street/Robinson Road\\n\\nGRANT’S TOWN/ST. MICHAELS\\n',\n",
       " '2 Starting Point: East Hill Street\\nEast Hill Street/East Street/Shirley Street/Princess Street/Duke Street/Cumberland Street/Navy Lion Road/Bay Street/Frederick Street/Princess Street/Duke Street/Blue Hill Road/Lewis Street/Market Street/Ross Corner/East Street/Soldier Road\\n\\nGRANT’S TOWN/ST. MICHAELS\\n',\n",
       " '2A - Starting Point: East Street and Soldier Road\\nSoldier Road (West)/Baillou Road/Robinson Road/Grove Street/Bahama Avenue/East Street/To East Street Depot/East Street/Shirley Street/Princess Street/Market Street/Ross Corner/East Street/Soldier Road\\n\\nGRANT’S TOWN/ST. MICHAELS\\n',\n",
       " '3\\nBaillou Hill Road/Robinson road/Marathon Road/Wulff Road/Mackey Street/Maderia Street/Collins Avenue/Shirley Street/East Street/Bay Street/Mackey Street/Wulff Road/Marathon Road/Robinson Road/Baillou Road\\n\\nGRANT’S TOWN/ST. MICHAELS\\n',\n",
       " '3A Starting Point: Corner Soldier Road and Old Trail Road\\nOld Trail Road to Solomon’s Wholesale/Soldier Road/Wulff Road/Mackey Street/Maderia Street/Collins Avenue/Shirley Street/Princess Street/Duke Street/Cumberland Street/Navy Lion Road/Bay Street/Mackey Street/Wulff Road/Prince Charles Avenue/Old Trail Road.\\n\\nGRANT’S TOWN/ST. MICHAELS\\n',\n",
       " '4 Starting Point: East Hill Street Depot\\nEast Hill Street/Market Street/Lewis Street/Baillou Hill Road (North)/Cumberland Street/Navy Lion Road/Bay Street/Frederick Street/Market Street/Robinson Road/\\nRobinson Road/ Baillou Hill Road.\\n\\nGRANT’S TOWN/ST. MICHAELS\\n',\n",
       " '4A Starting Point: Corner Baillou Hill road and Robinson Road\\nRobinson Road/Baillou Hill road/Cumberland Street/Navy Lion Road/Bay Street/Frederick Street/Mackey Street/Robinson Road/Robinson Road/ Baillou Hill Road.\\n\\nKENNEDY SUBDIVISION/SOLDIER ROAD\\n',\n",
       " '5 – Starting Point: Kennedy and Malcolm Road \\nKennedy Road/Soldier Road/Village Road/Shirley Street/Princess Street/Duke Street/Cumberland Street/Bay Street/Frederick Street/Market Street/Robinson Road/Blue Hill Road/Soldier Road/Kennedy Road\\n\\nKENNEDY SUBDIVISION/MALCOLM ROAD\\n',\n",
       " '5a Starting Point: Kennedy Sub Division\\nKennedy Sub Division/soldier Road/Robinson Road/Marathon Road/Wulff Road/Mackey Street/Shirley Street/Princess Street/Duke Street/Cumberland Street/Navy Lion Road/Bay Street/Frederick Street/Market Street/Robinson Road/Blue Hill Road/Malcolm Road/Malcolm Road/Kennedy Road\\n\\nBlue Hill Road And Market Street Shuttle\\n',\n",
       " '6 Starting Point: Market Street And Robinson Road\\nMarket Street/Robinson Road/Blue Hill Road/Cumberland Street/Navy Lion Road/Bay Street/Frederick Street/Princess Street/Market Street\\n\\nBIG POND SUB DIVISION\\n',\n",
       " '6A Starting Point: Baillou Hill Road and Robinson Road\\nBaillou Hill Road/Tucker Road/Thompson Boulevard/Poinciana Drive/Baillou Hill Road/Cumberland Street/Navy Lion Road/Bay Street/Frederick Street/Market Street/Robinson Road/to corner of Baillou Hill Road/ Robinson Road\\n\\nKEMP ROAD/ENGLERSTON\\n',\n",
       " '7 - Starting Point: East Hill Street\\nEast Street/Shirley Street/Princess Street/Duke Street/Cumberland Street/Navy Lion Road/Bay Street/Fowler Street/Kemp Road/Wulff Road/Jerome Avenue/Pyfrom Road/Bar 20 Corner/Mackey Street/Rosetta Street/Collins Avenue/Shirley Street/East Street/East Hill Street\\n\\nKEMP ROAD/ENGLERSTON\\n',\n",
       " '7A Starting Point: East Hill Street\\nEast Street/Shirley Street/Princess Street/Duke Street/Cumberland Street/Navy Lion Road/Bay Street/Fowler Street/Kemp Road/Wulff Road/Minnie Street/Balfour Avenue/East Street\\n\\nYELLOW ELDER/PRINCESS MARGARET HOSPITAL\\n',\n",
       " '8 Starting Point: Bust Depot Blue Hill Road by Town Centre Mall\\nGraham Avenue/Melvern Road/Bethel Avenue/return to Yellow Elder/Graham Drive/Blue Hill Road/Cumberland Street/Navy Lion Road/Bay Street/Elizabeth Avenue/Sands Road/East Street/East Hill Street/Mackey Street/Wulff Road/Poinciana Drive/Thompson Boulevard/Yellow Elder Way/Graham Avenue/Bethel Avenue/Yellow Elder/Graham Drive.\\n\\nYELLOW ELDER/PRINCESS MARGARET HOSPITAL\\n',\n",
       " '8A Starting Point: Bus Depot Blue Hill Road by Town Centre Mall\\nGraham Avenue/Yellow Elder Gardens/Bethel Avenue/Thompson Boulevard/Poinciana Drive/Blue Hill Road/Cumberland Street/navy Lion Road/Bay Street/Elizabeth Avenue/Sands Road/East Street/East Hill Street/Market Street/Wulff Road/Blue Hill Road/ to Town Centre Mall\\n\\nFOX HILL/ELIZABETH ESTATES\\n',\n",
       " '9 Starting Point: East Hill Street Depot\\nEast Street/Parliament Street/Bay Street/Village Road/Bernard Road/Fox Hill Road/Prince Charles Avenue/to Winton Shopping Centre/Return to Prince Charles Avenue/Fox Hill Road/Adderley Street/Johnson Road/Eastern Road/Shirley Street/East Street/East Hill Street\\n\\nFOX HILL/ELIZABETH ESTATES\\n',\n",
       " '9A Starting Point: East Hill Street Depot\\nEast Street/Parliament Street/Bay Street/Eastern Road/Winton Highway/Culbert Hill Road/Prince Charles Drive/Meadows Drive/Yamacraw Road/Commonwealth Boulevard/Elizabeth Estate/Prince Charles Drive/Fox Hill Road/Bernard Road/Village Road/Shirley Street/East Street/East Hill Street\\n\\nFOX HILL/ELIZABETH ESTATES\\n',\n",
       " '9B Starting Point: East Hill Street Depot\\nEast Street/Parliament Street/Bay Street/Eastern Road/Winton Highway/Culbert Hill Road/Prince Charles Drive/Meadows Drive/Yamacraw Road/Commonwealth Boulevard/Elizabeth Estate/Prince Charles Drive/Fox Hill Road/Bernard Road/Village Road/Shirley Street/East Street/East Hill Street\\n\\nCABLE BEACH\\n',\n",
       " '10 Starting Point: East Hill Street Depot\\nGeorge Street/Duke Street/Cumberland Street/West Bay Street/Cable Beach/Delaporte/Orange Hill/Compass Point/Bay Street/George Street\\n\\nCABLE BEACH/FARRINGTON ROAD\\n',\n",
       " '10A Starting Point: East Hill Street Depot\\nEast Street/Shirley Street/Princess Street/Market Street/Wulff Road/Poinciana Drive/Carter Street/Horseshoe Drive/Ajax Street/Farrington Road/John F Kennedy Drive/Prospect Ridge/Cable Beach/Sandyport/Skyline Drive/Prospect Ridge/John F. Kennedy Drive/Farrington Road/Ajax Road/Horseshoe Drive/Carter Street/Nassau Street/Meeting Street/Baillou Hill Road/Cumberland Street/Navy Lion Road/Bay Street/Frederick Street South\\n\\nCHIPPINGHAM/OAKES FIELD\\n',\n",
       " '10B Starting Point: George Street and Duke Street\\nGeorge Street/Duke Street/Cumberland Street/West Bay Street/Nassau Street/Thompson Boulevard/Davis Street/Warren Street/Farrington Road/Hibiscus Road/Wallace Road/Churchhill Avenue/Eden Street North/Sydney Street/Dunmore Avenue/Chippingham Road/Columbus/St. Alban’s Drive/West Bay Street/Marlboro Street\\n\\nELIZABETH ESTATES\\n',\n",
       " '11\\nElizabeth Estates via Commonwealth Boulevard/Prince Charles Drive/Fox Hill Road/Bernard Road/Wulff Road/Collins Avenue/Shirley Street/East Street/Woodes Rodgers Wharf/Parliament Street/Bay Street/Village Road/Bernard Road/Fox Hill Road/Prince Charles Drive/Elizabeth Estate/Commonwealth Boulevard/Yamacraw Road\\n\\nELIZABETH ESTATES\\n',\n",
       " '11A Starting Point: Elizabeth Estate\\nCommonwealth Boulevard/Yamacraw Road/Joe Farrington Road/Sea Breeze/Beatrice Avenue/Prince Charles Drive/Soldier Road/Village Road/Shirley Street/Princess Street/Market Street/Robinson Road/Elizabeth Estates\\n\\nCORAL HARBOUR, LYFORD CAY AND AIRPORT\\n',\n",
       " '12 Starting Point: Coral Harbour\\nCoral Harbour Roundabout/Adelaide road/Clifton Pier Road/Mt. Pleasant/Lyford Cay/John F. Kennedy Drive/Blake Road/West Bay Street/Cable Beach/Marlborough Street/Navy Lion Road/Bay Street/Frederick Street/Princess Street/Baillou Hill Road/Carmichael Road to Coral Harbour Roundabout\\n\\nCARMICHAEL ROAD/FARRINGTON ROAD\\n',\n",
       " '14 Starting Point: Bacardi Road\\nCarmichael Road/Faith Avenue/Sir Milo Butler Highway/Harold Road/Union City/Christie Avenue/McKinney Avenue/Bethel Avenue/John F. Kennedy Drive/Farrington Road Boyd Road/Nassau Street/Meeting Street/Dillet Street/Blue Hill Road Cumberland Street/Navy Lion Road/Bay Street/Frederick Street/Duke Street/Princess Street/Blue Hill Road/Meeting Street/Nassau Street/Boyd Street/Farrington Road/Rock Crusher Road/John F. Kennedy Drive/Bethel Avenue/Sir Milo Butler Highway/Faith Avenue/Carmichael Road/Barcardi Road\\n\\nJUBILEE GARDENS\\n',\n",
       " '14A Starting Point: Bacardi Road\\nCarmichael Road/Gladstone Road (extended new sub divisions)/Firetrail Road/Jubilee Gardens/McKinney Drive/Carmichael Road/Blue Hill Road/Cumberland Street/Navy Lion Road /Bay St./Fredrick St./Princess St./Market St./Lewis St./Blue Hill Rd./Meeting Street/Nassau Street/Boyd Road/Farrington Road/John F. Kennedy Drive/Bethel Avenue/Sir Milo Butler Highway/Faith Avenue/Carmichael Road/Barcardi Road\\n\\nYAMACRAW/WINTON\\n',\n",
       " '15 Starting Point: Winton Shopping Centre\\nPrince Charles Avenue/Commonwealth Boulevard/Yamacraw Road/Fox Hill Road/Prince Charges Drive/Robinson Road/Blue Hill Road/Cumberland Street/Navy Lion Road/Bay Street/Frederick Street/Princess Street/Duke Street/Blue Hill Road/Robinson Road/Prince Charles Drive/Prince Charles Avenue/Winton Shopping Center\\n\\nYAMACRAW/WINTON\\n',\n",
       " '15A\\nPrince Charles Avenue/Robinson/Blue Hill Road/Cumberland Street/Navy Lion Road/Bay Street/Frederick Street/Princess Street/Duke Street/Blue Hill Road/Robinson Road/Prince Charles Drive/Fox Hill Road/Yamacraw Road/Commonwealth Boulevard/Winton Shopping Centre\\n\\nFLAMINGO GARDENS\\n',\n",
       " '16\\nFaith Avenue/Sir Milo Butler Highway/Bethel Avenue/Thompson Boulevard/Poinciana Drive/Blue Hill Road/Cumberland Street/Navy Lion Road/Bay Street/Elizabeth Avenue/Shirley Street/Princess Street/Duke Street/Blue Hill road/Carmichael Road/Flamingo Gardens\\n\\nBACARDI ROAD\\n',\n",
       " '16A\\nCarmichael Road/Flamingo Gardens/Carmichael Road/Blue Hill Road/Cumberland Street/Navy Lion Road/Bay Street/Elizabeth Avenue/Shirley Street/Princess Street/Duke Street/Blue Hill Road/Carmichael Road/to Barcardi Road\\n\\nADELAIDE\\n',\n",
       " '16B\\nAdelaide Road/Coral Harbour/Carmichael Road/Blue Hill Road (South)/Summer Haven/East Street/East Hill Street/East Street/Bay Street/Elizabeth Avenue/Shirley Street/East Street\\n\\nSEABREEZE/PRINCE CHARLES SHOPPING CENTRE/MARATHON MALL\\n',\n",
       " '17 Starting Point: Fox Hill Road and Prince Charles Drive\\nFox Hill Road/Joe Farrington road/Golf Course Boulevard/Beatrice Avenue/Prince Charles Drive/St. Michael Road/soldier Road/Old Trail Road/Robinson Road/Marathon Road/Wulff Road/Jerome Avenue/Pyfrom Road/Mackey Street/Rosetta Street/Collins Avenue/Shirley Street/East Street/East Hill Street Depot/Market Street/Duke Street/Cumberland Street/Navy Lion Road/Bay Street/Village Road/Prince Charles Drive/Fox Hill Road\\n\\nSEABREEZE/PRINCE CHARLES SHOPPING CENTRE/MARATHON MALL\\n',\n",
       " '17A Starting Point Fox Hill Prison\\nFox Hill Road/Prince Charles Avenue/Soldier Road/Village Road/Shirley Street/East Street/East Hill Street Depot/Market Street/Duke Street/Cumberland Street/Navy Lion Road/Bay Street/Village Road/Wulff Road/Marathon road/Robinson Road/Old Trail Road/Soldier Road/Prince Charles Drive/Beatrice Avenue/Joe Farrington Road/Return to Fox Hill Road\\n\\nJASMINE GARDENS/JOAN’S HEIGHT\\n',\n",
       " '18 Starting Point City Market Shopping Centre East Street\\nEast Street/Joan’s Height/New Hope Drive South/New Hope Drive to Victoria Boulevard West/Victoria Drive/to 3rd Corner on the north side of Victoria Drive/return to Victoria Boulevard/Ferguson Drive/Roberts Drive/Antonio Drive/south east on Antonio Drive to Victoria Boulevard/East street south/north on East Street to East Hill Street Depot/return to East/Shirley Street/Princess Street/Duke Street/Cumberland Street/Navy Lion Road/Bay Street/Frederick Street/Baillou Hill Road/East Street/Return to City Market Shopping Centre\\n\\nNASSAU VILLAGE\\n',\n",
       " '19 Starting Point: Nassau Village Entrance to Prince Charles Shopping Centre\\nPrince Charles Derive/St. Michael Road/Soldier Road/West on Soldier Road/Taylor Street/Emerelda Avenue/Alexander Boulevard East and all side streets/to Alexander Boulevard west/Windsor Place Road/Soldier Road east on Soldier Road/Old Trail Road/to Solomon’s Wholesale/Robinson Road/Marathon Road/Wulff Road/Mackey Street/Madeira Street/Collins Avenue/Shirley Street/East Street/Woodes Rodgers Wharf/Parliament Street/Bay Street/Village Road/Soldier Road/Prince Charles Drive/return to Prince Charles Shopping Centre\\n\\nGOLDEN GATES\\n',\n",
       " '20 Starting Point: Golden Gates Shopping Centre (Garden Hills)\\n(Zion Way)Jasmine Gardens/Cowpen Road/New Birth Subdivision/St. Vincent Road/Baillou Hill Road/Sisal Road/Lobster Drive/Bird Road/Mutton Fish Drive/Jumbey Drive/Sisal Road East/Malcolm Road/West on Malcolm Road/Richville Drive/Soldier Road/Baillou Hill Road/Cumberland Street/Navy Lion Road/Bay Street/Elizabeth Avenue/Shirley Street/Princess Street/Duke Street/Baillou Hill Road/Cowpen Road\\n\\nPINEWOOD GARDENS\\n',\n",
       " '21\\nSouth Beach Complex via East Street/Bamboo Boulevard/Thatch Palm Avenue/Sapodilla Boulevard/East on Sapodilla Street/Willow Tree Street/Pinewood Drive/East on Pine Wood Drive/Buttonwood Street/Sapodilla Boulevard/Thatch Palm Avenue/Bamboo Boulevard/East Street/Bay Street/Christie Avenue/Wulff Road/Marathon Road/Robinson Road/Old Trail Road/Soldier Road/Windsor Place Road/Sapodilla Boulevard/Willow Tree Road/Pinewood Drive/Bamboo Boulevard/South Beach Complex\\n\\nPINEWOOD GARDENS\\n',\n",
       " '21A\\nBlue Hill Road South/Blue Hill Road/Summer Haven/East Street/Bamboo Boulevard/Buttonwood Street/Sapodilla Boulevard/Kennedy Subdivision/Soldier Road/East Street/East Hill Street/East Street/Bay Street/Elizabeth Street/Shirley Street/Princess Street/Duke Street/Blue Hill Road/to starting point at intersection of Malcolm Road and Blue Hill Road\\n\\nST. VINCENT ROAD/EMERAL GARDENS\\n',\n",
       " '22 Starting Point Golden Gates Shopping Centre\\nSouth on Baillou Hill Road/St. Vincent Avenue/Antigua Street/Mermaid Boulevard East/Mermaid Boulevard West/Carmichael Road/Turtle Drive/Ambergris/Faith Avenue/North along Faith Avenue/Sir Milo Butler Highway/Union City/Harold Road/Bethel Avenue/Thompson Boulevard/Nassau Street/Meeting Street/Dillet Street/Baillou Hill Road/Cumberland Street/Navy Lion Road/Bay Street/Elizabeth Avenue/East Street/East Hill Street Depot/return to East Street/Wulff Road/Market Street/Robinson Road/Baillou Hill Road to Golden Gates Shopping Centre\\n\\nST. VINCENT ROAD\\n',\n",
       " '22A Starting Point: Baillou Hill Road and Cowpen Road\\nCowpen Road/New Bight Sub Division/St Vincent Road/Baillou Hill Road/Cumberland Street/Navy Lion Road/Frederick Street/Princess Street/Market Street/Depot return to Market Street/Lewis Street/Baillou Hill Road/Poinciana Avenue/Thompson Boulevard/John F. Kennedy Drive/Bethel Avenue/Sir Milo Butler Highway/Fire Trail Road East/Carmichael Road/Faith Avenue/St. Vincent Road/New Bight Subdivision/Cowpen Road\\n\\nKEMP ROAD\\n',\n",
       " '23 Starting Point: Corner Soldier Road and East Street\\nEast Street/Wulff Road/East to Kemp Road/Shirley Street/East Street/East Hill Street/Mackey Street/Lewis Street/Blue Hill Road/Cumberland Street/Navy Lion Road/Bay Street/Fowler Street/Kemp Road/Wulff Road/Palm Beach Street/Cordeaux Avenue/East Street/return to East Street and Soldier Road\\n']"
      ]
     },
     "execution_count": 31,
     "metadata": {},
     "output_type": "execute_result"
    }
   ],
   "source": [
    "routes = pdf_text.split(\"ROUTE #\")[1:]\n",
    "routes"
   ]
  },
  {
   "cell_type": "code",
   "execution_count": 32,
   "id": "c19c7e3c-7aea-423e-8a88-17c858d069a1",
   "metadata": {},
   "outputs": [
    {
     "data": {
      "text/plain": [
       "42"
      ]
     },
     "execution_count": 32,
     "metadata": {},
     "output_type": "execute_result"
    }
   ],
   "source": [
    "len(routes)"
   ]
  },
  {
   "cell_type": "code",
   "execution_count": 9,
   "id": "8b4bef6c-b438-44f9-9990-aa0960ccbd2e",
   "metadata": {
    "collapsed": true,
    "jupyter": {
     "outputs_hidden": true
    },
    "tags": []
   },
   "outputs": [
    {
     "name": "stdout",
     "output_type": "stream",
     "text": [
      "1 Starting Point: East Hill Street\n",
      "East Hill street/East Street/Bay Street/Mackey Street/Rosetta Street/Mount Royal Avenue/Madeira Street/Mackey Street/Wulff Road/Claridge Road/Balfour Avenue/East Street/East Hill Street Depot/Shirley Street/Princess/Duke/Bay Street\n",
      "\n",
      "ENGLERSTON\n",
      "\n",
      "1A Starting Point: East Street and Robinson Road\n",
      "East Street/Balfour Avenue/Minnie Street/East Street/East Hill Street/East Street/Bay Street/Mackey Street/Rosetta Street/Mount Royal Avenue/Madeira Street/Mackey Street/Wulff Road/Pinedale/Balfour Avenue/Minnie Street/Robinson Road\n",
      "\n",
      "GRANT’S TOWN/ST. MICHAELS\n",
      "\n",
      "2 Starting Point: East Hill Street\n",
      "East Hill Street/East Street/Shirley Street/Princess Street/Duke Street/Cumberland Street/Navy Lion Road/Bay Street/Frederick Street/Princess Street/Duke Street/Blue Hill Road/Lewis Street/Market Street/Ross Corner/East Street/Soldier Road\n",
      "\n",
      "GRANT’S TOWN/ST. MICHAELS\n",
      "\n",
      "2A - Starting Point: East Street and Soldier Road\n",
      "Soldier Road (West)/Baillou Road/Robinson Road/Grove Street/Bahama Avenue/East Street/To East Street Depot/East Street/Shirley Street/Princess Street/Market Street/Ross Corner/East Street/Soldier Road\n",
      "\n",
      "GRANT’S TOWN/ST. MICHAELS\n",
      "\n",
      "3\n",
      "Baillou Hill Road/Robinson road/Marathon Road/Wulff Road/Mackey Street/Maderia Street/Collins Avenue/Shirley Street/East Street/Bay Street/Mackey Street/Wulff Road/Marathon Road/Robinson Road/Baillou Road\n",
      "\n",
      "GRANT’S TOWN/ST. MICHAELS\n",
      "\n",
      "3A Starting Point: Corner Soldier Road and Old Trail Road\n",
      "Old Trail Road to Solomon’s Wholesale/Soldier Road/Wulff Road/Mackey Street/Maderia Street/Collins Avenue/Shirley Street/Princess Street/Duke Street/Cumberland Street/Navy Lion Road/Bay Street/Mackey Street/Wulff Road/Prince Charles Avenue/Old Trail Road.\n",
      "\n",
      "GRANT’S TOWN/ST. MICHAELS\n",
      "\n",
      "4 Starting Point: East Hill Street Depot\n",
      "East Hill Street/Market Street/Lewis Street/Baillou Hill Road (North)/Cumberland Street/Navy Lion Road/Bay Street/Frederick Street/Market Street/Robinson Road/\n",
      "Robinson Road/ Baillou Hill Road.\n",
      "\n",
      "GRANT’S TOWN/ST. MICHAELS\n",
      "\n",
      "4A Starting Point: Corner Baillou Hill road and Robinson Road\n",
      "Robinson Road/Baillou Hill road/Cumberland Street/Navy Lion Road/Bay Street/Frederick Street/Mackey Street/Robinson Road/Robinson Road/ Baillou Hill Road.\n",
      "\n",
      "KENNEDY SUBDIVISION/SOLDIER ROAD\n",
      "\n",
      "5 – Starting Point: Kennedy and Malcolm Road \n",
      "Kennedy Road/Soldier Road/Village Road/Shirley Street/Princess Street/Duke Street/Cumberland Street/Bay Street/Frederick Street/Market Street/Robinson Road/Blue Hill Road/Soldier Road/Kennedy Road\n",
      "\n",
      "KENNEDY SUBDIVISION/MALCOLM ROAD\n",
      "\n",
      "5a Starting Point: Kennedy Sub Division\n",
      "Kennedy Sub Division/soldier Road/Robinson Road/Marathon Road/Wulff Road/Mackey Street/Shirley Street/Princess Street/Duke Street/Cumberland Street/Navy Lion Road/Bay Street/Frederick Street/Market Street/Robinson Road/Blue Hill Road/Malcolm Road/Malcolm Road/Kennedy Road\n",
      "\n",
      "Blue Hill Road And Market Street Shuttle\n",
      "\n",
      "6 Starting Point: Market Street And Robinson Road\n",
      "Market Street/Robinson Road/Blue Hill Road/Cumberland Street/Navy Lion Road/Bay Street/Frederick Street/Princess Street/Market Street\n",
      "\n",
      "BIG POND SUB DIVISION\n",
      "\n",
      "6A Starting Point: Baillou Hill Road and Robinson Road\n",
      "Baillou Hill Road/Tucker Road/Thompson Boulevard/Poinciana Drive/Baillou Hill Road/Cumberland Street/Navy Lion Road/Bay Street/Frederick Street/Market Street/Robinson Road/to corner of Baillou Hill Road/ Robinson Road\n",
      "\n",
      "KEMP ROAD/ENGLERSTON\n",
      "\n",
      "7 - Starting Point: East Hill Street\n",
      "East Street/Shirley Street/Princess Street/Duke Street/Cumberland Street/Navy Lion Road/Bay Street/Fowler Street/Kemp Road/Wulff Road/Jerome Avenue/Pyfrom Road/Bar 20 Corner/Mackey Street/Rosetta Street/Collins Avenue/Shirley Street/East Street/East Hill Street\n",
      "\n",
      "KEMP ROAD/ENGLERSTON\n",
      "\n",
      "7A Starting Point: East Hill Street\n",
      "East Street/Shirley Street/Princess Street/Duke Street/Cumberland Street/Navy Lion Road/Bay Street/Fowler Street/Kemp Road/Wulff Road/Minnie Street/Balfour Avenue/East Street\n",
      "\n",
      "YELLOW ELDER/PRINCESS MARGARET HOSPITAL\n",
      "\n",
      "8 Starting Point: Bust Depot Blue Hill Road by Town Centre Mall\n",
      "Graham Avenue/Melvern Road/Bethel Avenue/return to Yellow Elder/Graham Drive/Blue Hill Road/Cumberland Street/Navy Lion Road/Bay Street/Elizabeth Avenue/Sands Road/East Street/East Hill Street/Mackey Street/Wulff Road/Poinciana Drive/Thompson Boulevard/Yellow Elder Way/Graham Avenue/Bethel Avenue/Yellow Elder/Graham Drive.\n",
      "\n",
      "YELLOW ELDER/PRINCESS MARGARET HOSPITAL\n",
      "\n",
      "8A Starting Point: Bus Depot Blue Hill Road by Town Centre Mall\n",
      "Graham Avenue/Yellow Elder Gardens/Bethel Avenue/Thompson Boulevard/Poinciana Drive/Blue Hill Road/Cumberland Street/navy Lion Road/Bay Street/Elizabeth Avenue/Sands Road/East Street/East Hill Street/Market Street/Wulff Road/Blue Hill Road/ to Town Centre Mall\n",
      "\n",
      "FOX HILL/ELIZABETH ESTATES\n",
      "\n",
      "9 Starting Point: East Hill Street Depot\n",
      "East Street/Parliament Street/Bay Street/Village Road/Bernard Road/Fox Hill Road/Prince Charles Avenue/to Winton Shopping Centre/Return to Prince Charles Avenue/Fox Hill Road/Adderley Street/Johnson Road/Eastern Road/Shirley Street/East Street/East Hill Street\n",
      "\n",
      "FOX HILL/ELIZABETH ESTATES\n",
      "\n",
      "9A Starting Point: East Hill Street Depot\n",
      "East Street/Parliament Street/Bay Street/Eastern Road/Winton Highway/Culbert Hill Road/Prince Charles Drive/Meadows Drive/Yamacraw Road/Commonwealth Boulevard/Elizabeth Estate/Prince Charles Drive/Fox Hill Road/Bernard Road/Village Road/Shirley Street/East Street/East Hill Street\n",
      "\n",
      "FOX HILL/ELIZABETH ESTATES\n",
      "ROUTE 9B Starting Point: East Hill Street Depot\n",
      "East Street/Parliament Street/Bay Street/Eastern Road/Winton Highway/Culbert Hill Road/Prince Charles Drive/Meadows Drive/Yamacraw Road/Commonwealth Boulevard/Elizabeth Estate/Prince Charles Drive/Fox Hill Road/Bernard Road/Village Road/Shirley Street/East Street/East Hill Street\n",
      "\n",
      "CABLE BEACH\n",
      "\n",
      "10 Starting Point: East Hill Street Depot\n",
      "George Street/Duke Street/Cumberland Street/West Bay Street/Cable Beach/Delaporte/Orange Hill/Compass Point/Bay Street/George Street\n",
      "\n",
      "CABLE BEACH/FARRINGTON ROAD\n",
      "\n",
      "10A Starting Point: East Hill Street Depot\n",
      "East Street/Shirley Street/Princess Street/Market Street/Wulff Road/Poinciana Drive/Carter Street/Horseshoe Drive/Ajax Street/Farrington Road/John F Kennedy Drive/Prospect Ridge/Cable Beach/Sandyport/Skyline Drive/Prospect Ridge/John F. Kennedy Drive/Farrington Road/Ajax Road/Horseshoe Drive/Carter Street/Nassau Street/Meeting Street/Baillou Hill Road/Cumberland Street/Navy Lion Road/Bay Street/Frederick Street South\n",
      "\n",
      "CHIPPINGHAM/OAKES FIELD\n",
      "\n",
      "10B Starting Point: George Street and Duke Street\n",
      "George Street/Duke Street/Cumberland Street/West Bay Street/Nassau Street/Thompson Boulevard/Davis Street/Warren Street/Farrington Road/Hibiscus Road/Wallace Road/Churchhill Avenue/Eden Street North/Sydney Street/Dunmore Avenue/Chippingham Road/Columbus/St. Alban’s Drive/West Bay Street/Marlboro Street\n",
      "\n",
      "ELIZABETH ESTATES\n",
      "\n",
      "11\n",
      "Elizabeth Estates via Commonwealth Boulevard/Prince Charles Drive/Fox Hill Road/Bernard Road/Wulff Road/Collins Avenue/Shirley Street/East Street/Woodes Rodgers Wharf/Parliament Street/Bay Street/Village Road/Bernard Road/Fox Hill Road/Prince Charles Drive/Elizabeth Estate/Commonwealth Boulevard/Yamacraw Road\n",
      "\n",
      "ELIZABETH ESTATES\n",
      "\n",
      "11A Starting Point: Elizabeth Estate\n",
      "Commonwealth Boulevard/Yamacraw Road/Joe Farrington Road/Sea Breeze/Beatrice Avenue/Prince Charles Drive/Soldier Road/Village Road/Shirley Street/Princess Street/Market Street/Robinson Road/Elizabeth Estates\n",
      "\n",
      "CORAL HARBOUR, LYFORD CAY AND AIRPORT\n",
      "\n",
      "12 Starting Point: Coral Harbour\n",
      "Coral Harbour Roundabout/Adelaide road/Clifton Pier Road/Mt. Pleasant/Lyford Cay/John F. Kennedy Drive/Blake Road/West Bay Street/Cable Beach/Marlborough Street/Navy Lion Road/Bay Street/Frederick Street/Princess Street/Baillou Hill Road/Carmichael Road to Coral Harbour Roundabout\n",
      "\n",
      "CARMICHAEL ROAD/FARRINGTON ROAD\n",
      "\n",
      "14 Starting Point: Bacardi Road\n",
      "Carmichael Road/Faith Avenue/Sir Milo Butler Highway/Harold Road/Union City/Christie Avenue/McKinney Avenue/Bethel Avenue/John F. Kennedy Drive/Farrington Road Boyd Road/Nassau Street/Meeting Street/Dillet Street/Blue Hill Road Cumberland Street/Navy Lion Road/Bay Street/Frederick Street/Duke Street/Princess Street/Blue Hill Road/Meeting Street/Nassau Street/Boyd Street/Farrington Road/Rock Crusher Road/John F. Kennedy Drive/Bethel Avenue/Sir Milo Butler Highway/Faith Avenue/Carmichael Road/Barcardi Road\n",
      "\n",
      "JUBILEE GARDENS\n",
      "\n",
      "14A Starting Point: Bacardi Road\n",
      "Carmichael Road/Gladstone Road (extended new sub divisions)/Firetrail Road/Jubilee Gardens/McKinney Drive/Carmichael Road/Blue Hill Road/Cumberland Street/Navy Lion Road /Bay St./Fredrick St./Princess St./Market St./Lewis St./Blue Hill Rd./Meeting Street/Nassau Street/Boyd Road/Farrington Road/John F. Kennedy Drive/Bethel Avenue/Sir Milo Butler Highway/Faith Avenue/Carmichael Road/Barcardi Road\n",
      "\n",
      "YAMACRAW/WINTON\n",
      "\n",
      "15 Starting Point: Winton Shopping Centre\n",
      "Prince Charles Avenue/Commonwealth Boulevard/Yamacraw Road/Fox Hill Road/Prince Charges Drive/Robinson Road/Blue Hill Road/Cumberland Street/Navy Lion Road/Bay Street/Frederick Street/Princess Street/Duke Street/Blue Hill Road/Robinson Road/Prince Charles Drive/Prince Charles Avenue/Winton Shopping Center\n",
      "\n",
      "YAMACRAW/WINTON\n",
      "\n",
      "15A\n",
      "Prince Charles Avenue/Robinson/Blue Hill Road/Cumberland Street/Navy Lion Road/Bay Street/Frederick Street/Princess Street/Duke Street/Blue Hill Road/Robinson Road/Prince Charles Drive/Fox Hill Road/Yamacraw Road/Commonwealth Boulevard/Winton Shopping Centre\n",
      "\n",
      "FLAMINGO GARDENS\n",
      "\n",
      "16\n",
      "Faith Avenue/Sir Milo Butler Highway/Bethel Avenue/Thompson Boulevard/Poinciana Drive/Blue Hill Road/Cumberland Street/Navy Lion Road/Bay Street/Elizabeth Avenue/Shirley Street/Princess Street/Duke Street/Blue Hill road/Carmichael Road/Flamingo Gardens\n",
      "\n",
      "BACARDI ROAD\n",
      "\n",
      "16A\n",
      "Carmichael Road/Flamingo Gardens/Carmichael Road/Blue Hill Road/Cumberland Street/Navy Lion Road/Bay Street/Elizabeth Avenue/Shirley Street/Princess Street/Duke Street/Blue Hill Road/Carmichael Road/to Barcardi Road\n",
      "\n",
      "ADELAIDE\n",
      "\n",
      "16B\n",
      "Adelaide Road/Coral Harbour/Carmichael Road/Blue Hill Road (South)/Summer Haven/East Street/East Hill Street/East Street/Bay Street/Elizabeth Avenue/Shirley Street/East Street\n",
      "\n",
      "SEABREEZE/PRINCE CHARLES SHOPPING CENTRE/MARATHON MALL\n",
      "\n",
      "17 Starting Point: Fox Hill Road and Prince Charles Drive\n",
      "Fox Hill Road/Joe Farrington road/Golf Course Boulevard/Beatrice Avenue/Prince Charles Drive/St. Michael Road/soldier Road/Old Trail Road/Robinson Road/Marathon Road/Wulff Road/Jerome Avenue/Pyfrom Road/Mackey Street/Rosetta Street/Collins Avenue/Shirley Street/East Street/East Hill Street Depot/Market Street/Duke Street/Cumberland Street/Navy Lion Road/Bay Street/Village Road/Prince Charles Drive/Fox Hill Road\n",
      "\n",
      "SEABREEZE/PRINCE CHARLES SHOPPING CENTRE/MARATHON MALL\n",
      "\n",
      "17A Starting Point Fox Hill Prison\n",
      "Fox Hill Road/Prince Charles Avenue/Soldier Road/Village Road/Shirley Street/East Street/East Hill Street Depot/Market Street/Duke Street/Cumberland Street/Navy Lion Road/Bay Street/Village Road/Wulff Road/Marathon road/Robinson Road/Old Trail Road/Soldier Road/Prince Charles Drive/Beatrice Avenue/Joe Farrington Road/Return to Fox Hill Road\n",
      "\n",
      "JASMINE GARDENS/JOAN’S HEIGHT\n",
      "\n",
      "18 Starting Point City Market Shopping Centre East Street\n",
      "East Street/Joan’s Height/New Hope Drive South/New Hope Drive to Victoria Boulevard West/Victoria Drive/to 3rd Corner on the north side of Victoria Drive/return to Victoria Boulevard/Ferguson Drive/Roberts Drive/Antonio Drive/south east on Antonio Drive to Victoria Boulevard/East street south/north on East Street to East Hill Street Depot/return to East/Shirley Street/Princess Street/Duke Street/Cumberland Street/Navy Lion Road/Bay Street/Frederick Street/Baillou Hill Road/East Street/Return to City Market Shopping Centre\n",
      "\n",
      "NASSAU VILLAGE\n",
      "\n",
      "19 Starting Point: Nassau Village Entrance to Prince Charles Shopping Centre\n",
      "Prince Charles Derive/St. Michael Road/Soldier Road/West on Soldier Road/Taylor Street/Emerelda Avenue/Alexander Boulevard East and all side streets/to Alexander Boulevard west/Windsor Place Road/Soldier Road east on Soldier Road/Old Trail Road/to Solomon’s Wholesale/Robinson Road/Marathon Road/Wulff Road/Mackey Street/Madeira Street/Collins Avenue/Shirley Street/East Street/Woodes Rodgers Wharf/Parliament Street/Bay Street/Village Road/Soldier Road/Prince Charles Drive/return to Prince Charles Shopping Centre\n",
      "\n",
      "GOLDEN GATES\n",
      "\n",
      "20 Starting Point: Golden Gates Shopping Centre (Garden Hills)\n",
      "(Zion Way)Jasmine Gardens/Cowpen Road/New Birth Subdivision/St. Vincent Road/Baillou Hill Road/Sisal Road/Lobster Drive/Bird Road/Mutton Fish Drive/Jumbey Drive/Sisal Road East/Malcolm Road/West on Malcolm Road/Richville Drive/Soldier Road/Baillou Hill Road/Cumberland Street/Navy Lion Road/Bay Street/Elizabeth Avenue/Shirley Street/Princess Street/Duke Street/Baillou Hill Road/Cowpen Road\n",
      "\n",
      "PINEWOOD GARDENS\n",
      "\n",
      "21\n",
      "South Beach Complex via East Street/Bamboo Boulevard/Thatch Palm Avenue/Sapodilla Boulevard/East on Sapodilla Street/Willow Tree Street/Pinewood Drive/East on Pine Wood Drive/Buttonwood Street/Sapodilla Boulevard/Thatch Palm Avenue/Bamboo Boulevard/East Street/Bay Street/Christie Avenue/Wulff Road/Marathon Road/Robinson Road/Old Trail Road/Soldier Road/Windsor Place Road/Sapodilla Boulevard/Willow Tree Road/Pinewood Drive/Bamboo Boulevard/South Beach Complex\n",
      "\n",
      "PINEWOOD GARDENS\n",
      "\n",
      "21A\n",
      "Blue Hill Road South/Blue Hill Road/Summer Haven/East Street/Bamboo Boulevard/Buttonwood Street/Sapodilla Boulevard/Kennedy Subdivision/Soldier Road/East Street/East Hill Street/East Street/Bay Street/Elizabeth Street/Shirley Street/Princess Street/Duke Street/Blue Hill Road/to starting point at intersection of Malcolm Road and Blue Hill Road\n",
      "\n",
      "ST. VINCENT ROAD/EMERAL GARDENS\n",
      "\n",
      "22 Starting Point Golden Gates Shopping Centre\n",
      "South on Baillou Hill Road/St. Vincent Avenue/Antigua Street/Mermaid Boulevard East/Mermaid Boulevard West/Carmichael Road/Turtle Drive/Ambergris/Faith Avenue/North along Faith Avenue/Sir Milo Butler Highway/Union City/Harold Road/Bethel Avenue/Thompson Boulevard/Nassau Street/Meeting Street/Dillet Street/Baillou Hill Road/Cumberland Street/Navy Lion Road/Bay Street/Elizabeth Avenue/East Street/East Hill Street Depot/return to East Street/Wulff Road/Market Street/Robinson Road/Baillou Hill Road to Golden Gates Shopping Centre\n",
      "\n",
      "ST. VINCENT ROAD\n",
      "\n",
      "22A Starting Point: Baillou Hill Road and Cowpen Road\n",
      "Cowpen Road/New Bight Sub Division/St Vincent Road/Baillou Hill Road/Cumberland Street/Navy Lion Road/Frederick Street/Princess Street/Market Street/Depot return to Market Street/Lewis Street/Baillou Hill Road/Poinciana Avenue/Thompson Boulevard/John F. Kennedy Drive/Bethel Avenue/Sir Milo Butler Highway/Fire Trail Road East/Carmichael Road/Faith Avenue/St. Vincent Road/New Bight Subdivision/Cowpen Road\n",
      "\n",
      "KEMP ROAD\n",
      "\n",
      "23 Starting Point: Corner Soldier Road and East Street\n",
      "East Street/Wulff Road/East to Kemp Road/Shirley Street/East Street/East Hill Street/Mackey Street/Lewis Street/Blue Hill Road/Cumberland Street/Navy Lion Road/Bay Street/Fowler Street/Kemp Road/Wulff Road/Palm Beach Street/Cordeaux Avenue/East Street/return to East Street and Soldier Road\n",
      "\n"
     ]
    }
   ],
   "source": [
    "for route in routes:\n",
    "    print(route)"
   ]
  },
  {
   "cell_type": "code",
   "execution_count": 33,
   "id": "619862d2-834a-4150-b2a7-c51eeb72f286",
   "metadata": {},
   "outputs": [],
   "source": [
    "route_number_match = ['1', '1A', '2', '2A', '3', '3A', '4', '4A', '5', '5A', '6', '6A', '7', '7A', '8', '8A', '9', '9A', '9B', '10', '10A', '10B', '11', '11A', '12', '14', '14A', '15', '15A', '16', '16A', '16B', '17', '17A', '18', '19', '20', '21', '21A', '22', '22A', '23']   "
   ]
  },
  {
   "cell_type": "code",
   "execution_count": 34,
   "id": "45a696ce-a5de-45d6-84fe-f5a8e9561321",
   "metadata": {},
   "outputs": [
    {
     "data": {
      "text/plain": [
       "42"
      ]
     },
     "execution_count": 34,
     "metadata": {},
     "output_type": "execute_result"
    }
   ],
   "source": [
    "len(route_number_match)"
   ]
  },
  {
   "cell_type": "code",
   "execution_count": 39,
   "id": "dfd64077-a60c-45c4-9bdd-9fbe7387e369",
   "metadata": {},
   "outputs": [
    {
     "data": {
      "text/plain": [
       "'23 Starting Point: Corner Soldier Road and East Street\\nEast Street/Wulff Road/East to Kemp Road/Shirley Street/East Street/East Hill Street/Mackey Street/Lewis Street/Blue Hill Road/Cumberland Street/Navy Lion Road/Bay Street/Fowler Street/Kemp Road/Wulff Road/Palm Beach Street/Cordeaux Avenue/East Street/return to East Street and Soldier Road\\n'"
      ]
     },
     "execution_count": 39,
     "metadata": {},
     "output_type": "execute_result"
    }
   ],
   "source": [
    "route = routes[41]\n",
    "route"
   ]
  },
  {
   "cell_type": "code",
   "execution_count": 12,
   "id": "4aa6f814-7727-476e-b52d-6362c75a3205",
   "metadata": {},
   "outputs": [
    {
     "data": {
      "text/plain": [
       "5"
      ]
     },
     "execution_count": 12,
     "metadata": {},
     "output_type": "execute_result"
    }
   ],
   "source": [
    "number = routes.index(route)\n",
    "number"
   ]
  },
  {
   "cell_type": "code",
   "execution_count": 40,
   "id": "49d93838-08c5-4ac0-aeb0-37e4fa7eeeae",
   "metadata": {
    "tags": []
   },
   "outputs": [],
   "source": [
    "def router_csv(route):\n",
    "    # Extract the service area\n",
    "    service_area = route.split('\\n')[0].strip()\n",
    "    # Extract the route number and starting point\n",
    "    route_number = route[0]\n",
    "    starting_point = route.split('\\n')[0]\n",
    "    # Extract the street names\n",
    "    street_names = route.split('\\n')[1].split('/')\n",
    "    \n",
    "    # Create a new CSV file for the route\n",
    "    number = routes.index(route)\n",
    "    csv_filename = f'Route_{route_number_match[number]}.csv'\n",
    "    \n",
    "    df = pd.DataFrame(columns = ['Service Area', 'Route Number', 'Starting Point', 'Street Names'])\n",
    "    df['Street Names'] = street_names\n",
    "    df['Service Area'] = service_area\n",
    "    df['Route Number'] = route_number\n",
    "    df['Starting Point'] = starting_point\n",
    "    \n",
    "    df.to_csv(f'{csv_filename}')\n",
    "    print(route)"
   ]
  },
  {
   "cell_type": "code",
   "execution_count": 36,
   "id": "12ef49e1-2a5f-44e0-969b-4951375353f8",
   "metadata": {
    "collapsed": true,
    "jupyter": {
     "outputs_hidden": true
    },
    "tags": []
   },
   "outputs": [
    {
     "name": "stdout",
     "output_type": "stream",
     "text": [
      "0\n",
      "1\n",
      "2\n",
      "3\n",
      "4\n",
      "5\n",
      "6\n",
      "7\n",
      "8\n",
      "9\n",
      "10\n",
      "11\n",
      "12\n",
      "13\n",
      "14\n",
      "15\n",
      "16\n",
      "17\n",
      "18\n",
      "19\n",
      "20\n",
      "21\n",
      "22\n",
      "23\n",
      "24\n",
      "25\n",
      "26\n",
      "27\n",
      "28\n",
      "29\n",
      "30\n",
      "31\n",
      "32\n",
      "33\n",
      "34\n",
      "35\n",
      "36\n",
      "37\n",
      "38\n",
      "39\n",
      "40\n",
      "41\n"
     ]
    }
   ],
   "source": [
    "for i in range(0,42):\n",
    "   print(i)"
   ]
  },
  {
   "cell_type": "code",
   "execution_count": 41,
   "id": "d162d5f5-42fe-4724-8cb4-191598acf024",
   "metadata": {
    "collapsed": true,
    "jupyter": {
     "outputs_hidden": true
    },
    "tags": []
   },
   "outputs": [
    {
     "name": "stdout",
     "output_type": "stream",
     "text": [
      "1 Starting Point: East Hill Street\n",
      "East Hill street/East Street/Bay Street/Mackey Street/Rosetta Street/Mount Royal Avenue/Madeira Street/Mackey Street/Wulff Road/Claridge Road/Balfour Avenue/East Street/East Hill Street Depot/Shirley Street/Princess/Duke/Bay Street\n",
      "\n",
      "ENGLERSTON\n",
      "\n",
      "1A Starting Point: East Street and Robinson Road\n",
      "East Street/Balfour Avenue/Minnie Street/East Street/East Hill Street/East Street/Bay Street/Mackey Street/Rosetta Street/Mount Royal Avenue/Madeira Street/Mackey Street/Wulff Road/Pinedale/Balfour Avenue/Minnie Street/Robinson Road\n",
      "\n",
      "GRANT’S TOWN/ST. MICHAELS\n",
      "\n",
      "2 Starting Point: East Hill Street\n",
      "East Hill Street/East Street/Shirley Street/Princess Street/Duke Street/Cumberland Street/Navy Lion Road/Bay Street/Frederick Street/Princess Street/Duke Street/Blue Hill Road/Lewis Street/Market Street/Ross Corner/East Street/Soldier Road\n",
      "\n",
      "GRANT’S TOWN/ST. MICHAELS\n",
      "\n",
      "2A - Starting Point: East Street and Soldier Road\n",
      "Soldier Road (West)/Baillou Road/Robinson Road/Grove Street/Bahama Avenue/East Street/To East Street Depot/East Street/Shirley Street/Princess Street/Market Street/Ross Corner/East Street/Soldier Road\n",
      "\n",
      "GRANT’S TOWN/ST. MICHAELS\n",
      "\n",
      "3\n",
      "Baillou Hill Road/Robinson road/Marathon Road/Wulff Road/Mackey Street/Maderia Street/Collins Avenue/Shirley Street/East Street/Bay Street/Mackey Street/Wulff Road/Marathon Road/Robinson Road/Baillou Road\n",
      "\n",
      "GRANT’S TOWN/ST. MICHAELS\n",
      "\n",
      "3A Starting Point: Corner Soldier Road and Old Trail Road\n",
      "Old Trail Road to Solomon’s Wholesale/Soldier Road/Wulff Road/Mackey Street/Maderia Street/Collins Avenue/Shirley Street/Princess Street/Duke Street/Cumberland Street/Navy Lion Road/Bay Street/Mackey Street/Wulff Road/Prince Charles Avenue/Old Trail Road.\n",
      "\n",
      "GRANT’S TOWN/ST. MICHAELS\n",
      "\n",
      "4 Starting Point: East Hill Street Depot\n",
      "East Hill Street/Market Street/Lewis Street/Baillou Hill Road (North)/Cumberland Street/Navy Lion Road/Bay Street/Frederick Street/Market Street/Robinson Road/\n",
      "Robinson Road/ Baillou Hill Road.\n",
      "\n",
      "GRANT’S TOWN/ST. MICHAELS\n",
      "\n",
      "4A Starting Point: Corner Baillou Hill road and Robinson Road\n",
      "Robinson Road/Baillou Hill road/Cumberland Street/Navy Lion Road/Bay Street/Frederick Street/Mackey Street/Robinson Road/Robinson Road/ Baillou Hill Road.\n",
      "\n",
      "KENNEDY SUBDIVISION/SOLDIER ROAD\n",
      "\n",
      "5 – Starting Point: Kennedy and Malcolm Road \n",
      "Kennedy Road/Soldier Road/Village Road/Shirley Street/Princess Street/Duke Street/Cumberland Street/Bay Street/Frederick Street/Market Street/Robinson Road/Blue Hill Road/Soldier Road/Kennedy Road\n",
      "\n",
      "KENNEDY SUBDIVISION/MALCOLM ROAD\n",
      "\n",
      "5a Starting Point: Kennedy Sub Division\n",
      "Kennedy Sub Division/soldier Road/Robinson Road/Marathon Road/Wulff Road/Mackey Street/Shirley Street/Princess Street/Duke Street/Cumberland Street/Navy Lion Road/Bay Street/Frederick Street/Market Street/Robinson Road/Blue Hill Road/Malcolm Road/Malcolm Road/Kennedy Road\n",
      "\n",
      "Blue Hill Road And Market Street Shuttle\n",
      "\n",
      "6 Starting Point: Market Street And Robinson Road\n",
      "Market Street/Robinson Road/Blue Hill Road/Cumberland Street/Navy Lion Road/Bay Street/Frederick Street/Princess Street/Market Street\n",
      "\n",
      "BIG POND SUB DIVISION\n",
      "\n",
      "6A Starting Point: Baillou Hill Road and Robinson Road\n",
      "Baillou Hill Road/Tucker Road/Thompson Boulevard/Poinciana Drive/Baillou Hill Road/Cumberland Street/Navy Lion Road/Bay Street/Frederick Street/Market Street/Robinson Road/to corner of Baillou Hill Road/ Robinson Road\n",
      "\n",
      "KEMP ROAD/ENGLERSTON\n",
      "\n",
      "7 - Starting Point: East Hill Street\n",
      "East Street/Shirley Street/Princess Street/Duke Street/Cumberland Street/Navy Lion Road/Bay Street/Fowler Street/Kemp Road/Wulff Road/Jerome Avenue/Pyfrom Road/Bar 20 Corner/Mackey Street/Rosetta Street/Collins Avenue/Shirley Street/East Street/East Hill Street\n",
      "\n",
      "KEMP ROAD/ENGLERSTON\n",
      "\n",
      "7A Starting Point: East Hill Street\n",
      "East Street/Shirley Street/Princess Street/Duke Street/Cumberland Street/Navy Lion Road/Bay Street/Fowler Street/Kemp Road/Wulff Road/Minnie Street/Balfour Avenue/East Street\n",
      "\n",
      "YELLOW ELDER/PRINCESS MARGARET HOSPITAL\n",
      "\n",
      "8 Starting Point: Bust Depot Blue Hill Road by Town Centre Mall\n",
      "Graham Avenue/Melvern Road/Bethel Avenue/return to Yellow Elder/Graham Drive/Blue Hill Road/Cumberland Street/Navy Lion Road/Bay Street/Elizabeth Avenue/Sands Road/East Street/East Hill Street/Mackey Street/Wulff Road/Poinciana Drive/Thompson Boulevard/Yellow Elder Way/Graham Avenue/Bethel Avenue/Yellow Elder/Graham Drive.\n",
      "\n",
      "YELLOW ELDER/PRINCESS MARGARET HOSPITAL\n",
      "\n",
      "8A Starting Point: Bus Depot Blue Hill Road by Town Centre Mall\n",
      "Graham Avenue/Yellow Elder Gardens/Bethel Avenue/Thompson Boulevard/Poinciana Drive/Blue Hill Road/Cumberland Street/navy Lion Road/Bay Street/Elizabeth Avenue/Sands Road/East Street/East Hill Street/Market Street/Wulff Road/Blue Hill Road/ to Town Centre Mall\n",
      "\n",
      "FOX HILL/ELIZABETH ESTATES\n",
      "\n",
      "9 Starting Point: East Hill Street Depot\n",
      "East Street/Parliament Street/Bay Street/Village Road/Bernard Road/Fox Hill Road/Prince Charles Avenue/to Winton Shopping Centre/Return to Prince Charles Avenue/Fox Hill Road/Adderley Street/Johnson Road/Eastern Road/Shirley Street/East Street/East Hill Street\n",
      "\n",
      "FOX HILL/ELIZABETH ESTATES\n",
      "\n",
      "9A Starting Point: East Hill Street Depot\n",
      "East Street/Parliament Street/Bay Street/Eastern Road/Winton Highway/Culbert Hill Road/Prince Charles Drive/Meadows Drive/Yamacraw Road/Commonwealth Boulevard/Elizabeth Estate/Prince Charles Drive/Fox Hill Road/Bernard Road/Village Road/Shirley Street/East Street/East Hill Street\n",
      "\n",
      "FOX HILL/ELIZABETH ESTATES\n",
      "\n",
      "9B Starting Point: East Hill Street Depot\n",
      "East Street/Parliament Street/Bay Street/Eastern Road/Winton Highway/Culbert Hill Road/Prince Charles Drive/Meadows Drive/Yamacraw Road/Commonwealth Boulevard/Elizabeth Estate/Prince Charles Drive/Fox Hill Road/Bernard Road/Village Road/Shirley Street/East Street/East Hill Street\n",
      "\n",
      "CABLE BEACH\n",
      "\n",
      "10 Starting Point: East Hill Street Depot\n",
      "George Street/Duke Street/Cumberland Street/West Bay Street/Cable Beach/Delaporte/Orange Hill/Compass Point/Bay Street/George Street\n",
      "\n",
      "CABLE BEACH/FARRINGTON ROAD\n",
      "\n",
      "10A Starting Point: East Hill Street Depot\n",
      "East Street/Shirley Street/Princess Street/Market Street/Wulff Road/Poinciana Drive/Carter Street/Horseshoe Drive/Ajax Street/Farrington Road/John F Kennedy Drive/Prospect Ridge/Cable Beach/Sandyport/Skyline Drive/Prospect Ridge/John F. Kennedy Drive/Farrington Road/Ajax Road/Horseshoe Drive/Carter Street/Nassau Street/Meeting Street/Baillou Hill Road/Cumberland Street/Navy Lion Road/Bay Street/Frederick Street South\n",
      "\n",
      "CHIPPINGHAM/OAKES FIELD\n",
      "\n",
      "10B Starting Point: George Street and Duke Street\n",
      "George Street/Duke Street/Cumberland Street/West Bay Street/Nassau Street/Thompson Boulevard/Davis Street/Warren Street/Farrington Road/Hibiscus Road/Wallace Road/Churchhill Avenue/Eden Street North/Sydney Street/Dunmore Avenue/Chippingham Road/Columbus/St. Alban’s Drive/West Bay Street/Marlboro Street\n",
      "\n",
      "ELIZABETH ESTATES\n",
      "\n",
      "11\n",
      "Elizabeth Estates via Commonwealth Boulevard/Prince Charles Drive/Fox Hill Road/Bernard Road/Wulff Road/Collins Avenue/Shirley Street/East Street/Woodes Rodgers Wharf/Parliament Street/Bay Street/Village Road/Bernard Road/Fox Hill Road/Prince Charles Drive/Elizabeth Estate/Commonwealth Boulevard/Yamacraw Road\n",
      "\n",
      "ELIZABETH ESTATES\n",
      "\n",
      "11A Starting Point: Elizabeth Estate\n",
      "Commonwealth Boulevard/Yamacraw Road/Joe Farrington Road/Sea Breeze/Beatrice Avenue/Prince Charles Drive/Soldier Road/Village Road/Shirley Street/Princess Street/Market Street/Robinson Road/Elizabeth Estates\n",
      "\n",
      "CORAL HARBOUR, LYFORD CAY AND AIRPORT\n",
      "\n",
      "12 Starting Point: Coral Harbour\n",
      "Coral Harbour Roundabout/Adelaide road/Clifton Pier Road/Mt. Pleasant/Lyford Cay/John F. Kennedy Drive/Blake Road/West Bay Street/Cable Beach/Marlborough Street/Navy Lion Road/Bay Street/Frederick Street/Princess Street/Baillou Hill Road/Carmichael Road to Coral Harbour Roundabout\n",
      "\n",
      "CARMICHAEL ROAD/FARRINGTON ROAD\n",
      "\n",
      "14 Starting Point: Bacardi Road\n",
      "Carmichael Road/Faith Avenue/Sir Milo Butler Highway/Harold Road/Union City/Christie Avenue/McKinney Avenue/Bethel Avenue/John F. Kennedy Drive/Farrington Road Boyd Road/Nassau Street/Meeting Street/Dillet Street/Blue Hill Road Cumberland Street/Navy Lion Road/Bay Street/Frederick Street/Duke Street/Princess Street/Blue Hill Road/Meeting Street/Nassau Street/Boyd Street/Farrington Road/Rock Crusher Road/John F. Kennedy Drive/Bethel Avenue/Sir Milo Butler Highway/Faith Avenue/Carmichael Road/Barcardi Road\n",
      "\n",
      "JUBILEE GARDENS\n",
      "\n",
      "14A Starting Point: Bacardi Road\n",
      "Carmichael Road/Gladstone Road (extended new sub divisions)/Firetrail Road/Jubilee Gardens/McKinney Drive/Carmichael Road/Blue Hill Road/Cumberland Street/Navy Lion Road /Bay St./Fredrick St./Princess St./Market St./Lewis St./Blue Hill Rd./Meeting Street/Nassau Street/Boyd Road/Farrington Road/John F. Kennedy Drive/Bethel Avenue/Sir Milo Butler Highway/Faith Avenue/Carmichael Road/Barcardi Road\n",
      "\n",
      "YAMACRAW/WINTON\n",
      "\n",
      "15 Starting Point: Winton Shopping Centre\n",
      "Prince Charles Avenue/Commonwealth Boulevard/Yamacraw Road/Fox Hill Road/Prince Charges Drive/Robinson Road/Blue Hill Road/Cumberland Street/Navy Lion Road/Bay Street/Frederick Street/Princess Street/Duke Street/Blue Hill Road/Robinson Road/Prince Charles Drive/Prince Charles Avenue/Winton Shopping Center\n",
      "\n",
      "YAMACRAW/WINTON\n",
      "\n",
      "15A\n",
      "Prince Charles Avenue/Robinson/Blue Hill Road/Cumberland Street/Navy Lion Road/Bay Street/Frederick Street/Princess Street/Duke Street/Blue Hill Road/Robinson Road/Prince Charles Drive/Fox Hill Road/Yamacraw Road/Commonwealth Boulevard/Winton Shopping Centre\n",
      "\n",
      "FLAMINGO GARDENS\n",
      "\n",
      "16\n",
      "Faith Avenue/Sir Milo Butler Highway/Bethel Avenue/Thompson Boulevard/Poinciana Drive/Blue Hill Road/Cumberland Street/Navy Lion Road/Bay Street/Elizabeth Avenue/Shirley Street/Princess Street/Duke Street/Blue Hill road/Carmichael Road/Flamingo Gardens\n",
      "\n",
      "BACARDI ROAD\n",
      "\n",
      "16A\n",
      "Carmichael Road/Flamingo Gardens/Carmichael Road/Blue Hill Road/Cumberland Street/Navy Lion Road/Bay Street/Elizabeth Avenue/Shirley Street/Princess Street/Duke Street/Blue Hill Road/Carmichael Road/to Barcardi Road\n",
      "\n",
      "ADELAIDE\n",
      "\n",
      "16B\n",
      "Adelaide Road/Coral Harbour/Carmichael Road/Blue Hill Road (South)/Summer Haven/East Street/East Hill Street/East Street/Bay Street/Elizabeth Avenue/Shirley Street/East Street\n",
      "\n",
      "SEABREEZE/PRINCE CHARLES SHOPPING CENTRE/MARATHON MALL\n",
      "\n",
      "17 Starting Point: Fox Hill Road and Prince Charles Drive\n",
      "Fox Hill Road/Joe Farrington road/Golf Course Boulevard/Beatrice Avenue/Prince Charles Drive/St. Michael Road/soldier Road/Old Trail Road/Robinson Road/Marathon Road/Wulff Road/Jerome Avenue/Pyfrom Road/Mackey Street/Rosetta Street/Collins Avenue/Shirley Street/East Street/East Hill Street Depot/Market Street/Duke Street/Cumberland Street/Navy Lion Road/Bay Street/Village Road/Prince Charles Drive/Fox Hill Road\n",
      "\n",
      "SEABREEZE/PRINCE CHARLES SHOPPING CENTRE/MARATHON MALL\n",
      "\n",
      "17A Starting Point Fox Hill Prison\n",
      "Fox Hill Road/Prince Charles Avenue/Soldier Road/Village Road/Shirley Street/East Street/East Hill Street Depot/Market Street/Duke Street/Cumberland Street/Navy Lion Road/Bay Street/Village Road/Wulff Road/Marathon road/Robinson Road/Old Trail Road/Soldier Road/Prince Charles Drive/Beatrice Avenue/Joe Farrington Road/Return to Fox Hill Road\n",
      "\n",
      "JASMINE GARDENS/JOAN’S HEIGHT\n",
      "\n",
      "18 Starting Point City Market Shopping Centre East Street\n",
      "East Street/Joan’s Height/New Hope Drive South/New Hope Drive to Victoria Boulevard West/Victoria Drive/to 3rd Corner on the north side of Victoria Drive/return to Victoria Boulevard/Ferguson Drive/Roberts Drive/Antonio Drive/south east on Antonio Drive to Victoria Boulevard/East street south/north on East Street to East Hill Street Depot/return to East/Shirley Street/Princess Street/Duke Street/Cumberland Street/Navy Lion Road/Bay Street/Frederick Street/Baillou Hill Road/East Street/Return to City Market Shopping Centre\n",
      "\n",
      "NASSAU VILLAGE\n",
      "\n",
      "19 Starting Point: Nassau Village Entrance to Prince Charles Shopping Centre\n",
      "Prince Charles Derive/St. Michael Road/Soldier Road/West on Soldier Road/Taylor Street/Emerelda Avenue/Alexander Boulevard East and all side streets/to Alexander Boulevard west/Windsor Place Road/Soldier Road east on Soldier Road/Old Trail Road/to Solomon’s Wholesale/Robinson Road/Marathon Road/Wulff Road/Mackey Street/Madeira Street/Collins Avenue/Shirley Street/East Street/Woodes Rodgers Wharf/Parliament Street/Bay Street/Village Road/Soldier Road/Prince Charles Drive/return to Prince Charles Shopping Centre\n",
      "\n",
      "GOLDEN GATES\n",
      "\n",
      "20 Starting Point: Golden Gates Shopping Centre (Garden Hills)\n",
      "(Zion Way)Jasmine Gardens/Cowpen Road/New Birth Subdivision/St. Vincent Road/Baillou Hill Road/Sisal Road/Lobster Drive/Bird Road/Mutton Fish Drive/Jumbey Drive/Sisal Road East/Malcolm Road/West on Malcolm Road/Richville Drive/Soldier Road/Baillou Hill Road/Cumberland Street/Navy Lion Road/Bay Street/Elizabeth Avenue/Shirley Street/Princess Street/Duke Street/Baillou Hill Road/Cowpen Road\n",
      "\n",
      "PINEWOOD GARDENS\n",
      "\n",
      "21\n",
      "South Beach Complex via East Street/Bamboo Boulevard/Thatch Palm Avenue/Sapodilla Boulevard/East on Sapodilla Street/Willow Tree Street/Pinewood Drive/East on Pine Wood Drive/Buttonwood Street/Sapodilla Boulevard/Thatch Palm Avenue/Bamboo Boulevard/East Street/Bay Street/Christie Avenue/Wulff Road/Marathon Road/Robinson Road/Old Trail Road/Soldier Road/Windsor Place Road/Sapodilla Boulevard/Willow Tree Road/Pinewood Drive/Bamboo Boulevard/South Beach Complex\n",
      "\n",
      "PINEWOOD GARDENS\n",
      "\n",
      "21A\n",
      "Blue Hill Road South/Blue Hill Road/Summer Haven/East Street/Bamboo Boulevard/Buttonwood Street/Sapodilla Boulevard/Kennedy Subdivision/Soldier Road/East Street/East Hill Street/East Street/Bay Street/Elizabeth Street/Shirley Street/Princess Street/Duke Street/Blue Hill Road/to starting point at intersection of Malcolm Road and Blue Hill Road\n",
      "\n",
      "ST. VINCENT ROAD/EMERAL GARDENS\n",
      "\n",
      "22 Starting Point Golden Gates Shopping Centre\n",
      "South on Baillou Hill Road/St. Vincent Avenue/Antigua Street/Mermaid Boulevard East/Mermaid Boulevard West/Carmichael Road/Turtle Drive/Ambergris/Faith Avenue/North along Faith Avenue/Sir Milo Butler Highway/Union City/Harold Road/Bethel Avenue/Thompson Boulevard/Nassau Street/Meeting Street/Dillet Street/Baillou Hill Road/Cumberland Street/Navy Lion Road/Bay Street/Elizabeth Avenue/East Street/East Hill Street Depot/return to East Street/Wulff Road/Market Street/Robinson Road/Baillou Hill Road to Golden Gates Shopping Centre\n",
      "\n",
      "ST. VINCENT ROAD\n",
      "\n",
      "22A Starting Point: Baillou Hill Road and Cowpen Road\n",
      "Cowpen Road/New Bight Sub Division/St Vincent Road/Baillou Hill Road/Cumberland Street/Navy Lion Road/Frederick Street/Princess Street/Market Street/Depot return to Market Street/Lewis Street/Baillou Hill Road/Poinciana Avenue/Thompson Boulevard/John F. Kennedy Drive/Bethel Avenue/Sir Milo Butler Highway/Fire Trail Road East/Carmichael Road/Faith Avenue/St. Vincent Road/New Bight Subdivision/Cowpen Road\n",
      "\n",
      "KEMP ROAD\n",
      "\n",
      "23 Starting Point: Corner Soldier Road and East Street\n",
      "East Street/Wulff Road/East to Kemp Road/Shirley Street/East Street/East Hill Street/Mackey Street/Lewis Street/Blue Hill Road/Cumberland Street/Navy Lion Road/Bay Street/Fowler Street/Kemp Road/Wulff Road/Palm Beach Street/Cordeaux Avenue/East Street/return to East Street and Soldier Road\n",
      "\n"
     ]
    }
   ],
   "source": [
    "for i in range(0,42):\n",
    "    route = routes[i]\n",
    "    router_csv(route)"
   ]
  },
  {
   "cell_type": "code",
   "execution_count": 24,
   "id": "9138ade5-28fb-4b6a-a167-2a958e5a7343",
   "metadata": {},
   "outputs": [
    {
     "name": "stdout",
     "output_type": "stream",
     "text": [
      "6 Starting Point: Market Street And Robinson Road\n",
      "Market Street/Robinson Road/Blue Hill Road/Cumberland Street/Navy Lion Road/Bay Street/Frederick Street/Princess Street/Market Street\n",
      "\n",
      "BIG POND SUB DIVISION\n",
      "\n"
     ]
    }
   ],
   "source": [
    "router_csv(route)"
   ]
  },
  {
   "cell_type": "code",
   "execution_count": 162,
   "id": "2e16fe19-4e56-4686-9275-c0966c1ab848",
   "metadata": {},
   "outputs": [
    {
     "data": {
      "text/html": [
       "<div>\n",
       "<style scoped>\n",
       "    .dataframe tbody tr th:only-of-type {\n",
       "        vertical-align: middle;\n",
       "    }\n",
       "\n",
       "    .dataframe tbody tr th {\n",
       "        vertical-align: top;\n",
       "    }\n",
       "\n",
       "    .dataframe thead th {\n",
       "        text-align: right;\n",
       "    }\n",
       "</style>\n",
       "<table border=\"1\" class=\"dataframe\">\n",
       "  <thead>\n",
       "    <tr style=\"text-align: right;\">\n",
       "      <th></th>\n",
       "      <th>Service Area</th>\n",
       "      <th>Route Number</th>\n",
       "      <th>Starting Point</th>\n",
       "      <th>Street Names</th>\n",
       "    </tr>\n",
       "  </thead>\n",
       "  <tbody>\n",
       "  </tbody>\n",
       "</table>\n",
       "</div>"
      ],
      "text/plain": [
       "Empty DataFrame\n",
       "Columns: [Service Area, Route Number, Starting Point, Street Names]\n",
       "Index: []"
      ]
     },
     "execution_count": 162,
     "metadata": {},
     "output_type": "execute_result"
    }
   ],
   "source": [
    "df = pd.DataFrame(columns = ['Service Area', 'Route Number', 'Starting Point', 'Street Names'])\n",
    "df"
   ]
  },
  {
   "cell_type": "code",
   "execution_count": 166,
   "id": "7629e270-9eb6-4287-9688-8fd64c126b61",
   "metadata": {
    "collapsed": true,
    "jupyter": {
     "outputs_hidden": true
    },
    "tags": []
   },
   "outputs": [
    {
     "ename": "NameError",
     "evalue": "name 'service_area' is not defined",
     "output_type": "error",
     "traceback": [
      "\u001b[1;31m---------------------------------------------------------------------------\u001b[0m",
      "\u001b[1;31mNameError\u001b[0m                                 Traceback (most recent call last)",
      "\u001b[1;32mC:\\Users\\TTHOMP~1\\AppData\\Local\\Temp\\4/ipykernel_22524/105186224.py\u001b[0m in \u001b[0;36m<module>\u001b[1;34m\u001b[0m\n\u001b[0;32m      1\u001b[0m \u001b[0mdf\u001b[0m\u001b[1;33m[\u001b[0m\u001b[1;34m'Street Names'\u001b[0m\u001b[1;33m]\u001b[0m \u001b[1;33m=\u001b[0m \u001b[0mstreet_names\u001b[0m\u001b[1;33m\u001b[0m\u001b[1;33m\u001b[0m\u001b[0m\n\u001b[1;32m----> 2\u001b[1;33m \u001b[0mdf\u001b[0m\u001b[1;33m[\u001b[0m\u001b[1;34m'Service Area'\u001b[0m\u001b[1;33m]\u001b[0m \u001b[1;33m=\u001b[0m \u001b[0mservice_area\u001b[0m\u001b[1;33m\u001b[0m\u001b[1;33m\u001b[0m\u001b[0m\n\u001b[0m\u001b[0;32m      3\u001b[0m \u001b[0mdf\u001b[0m\u001b[1;33m[\u001b[0m\u001b[1;34m'Route Number'\u001b[0m\u001b[1;33m]\u001b[0m \u001b[1;33m=\u001b[0m \u001b[0mroute_number\u001b[0m\u001b[1;33m\u001b[0m\u001b[1;33m\u001b[0m\u001b[0m\n\u001b[0;32m      4\u001b[0m \u001b[0mdf\u001b[0m\u001b[1;33m[\u001b[0m\u001b[1;34m'Starting Point'\u001b[0m\u001b[1;33m]\u001b[0m \u001b[1;33m=\u001b[0m \u001b[0mstarting_point\u001b[0m\u001b[1;33m\u001b[0m\u001b[1;33m\u001b[0m\u001b[0m\n",
      "\u001b[1;31mNameError\u001b[0m: name 'service_area' is not defined"
     ]
    }
   ],
   "source": [
    "df['Street Names'] = street_names\n",
    "df['Service Area'] = service_area\n",
    "df['Route Number'] = route_number\n",
    "df['Starting Point'] = starting_point"
   ]
  },
  {
   "cell_type": "code",
   "execution_count": null,
   "id": "e0b3ad06-c894-481d-877d-ee686ba3a2ef",
   "metadata": {},
   "outputs": [],
   "source": [
    "df.to_csv(f'{csv_filename}.csv')"
   ]
  },
  {
   "cell_type": "code",
   "execution_count": 130,
   "id": "513bf30c-6547-46ab-a8e5-9a66342852cf",
   "metadata": {},
   "outputs": [
    {
     "data": {
      "text/plain": [
       "'1 Starting Point: East Hill Street\\nEast Hill street/East Street/Bay Street/Mackey Street/Rosetta Street/Mount Royal Avenue/Madeira Street/Mackey Street/Wulff Road/Claridge Road/Balfour Avenue/East Street/East Hill Street Depot/Shirley Street/Princess/Duke/Bay Street\\n\\n'"
      ]
     },
     "execution_count": 130,
     "metadata": {},
     "output_type": "execute_result"
    }
   ],
   "source": [
    "route = routes[0]\n",
    "route"
   ]
  },
  {
   "cell_type": "code",
   "execution_count": 77,
   "id": "9caf8785-1af7-4d5b-ab2b-103ea92e47aa",
   "metadata": {
    "collapsed": true,
    "jupyter": {
     "outputs_hidden": true,
     "source_hidden": true
    },
    "tags": []
   },
   "outputs": [
    {
     "data": {
      "text/plain": [
       "['Kennedy',\n",
       " 'Road/Soldier',\n",
       " 'Road/Village',\n",
       " 'Road/Shirley',\n",
       " 'Street/Princess',\n",
       " 'Street/Duke',\n",
       " 'Street/Cumberland',\n",
       " 'Street/Bay',\n",
       " 'Street/Frederick',\n",
       " 'Street/Market',\n",
       " 'Street/Robinson',\n",
       " 'Road/Blue',\n",
       " 'Hill',\n",
       " 'Road/Soldier',\n",
       " 'Road/Kennedy',\n",
       " 'Road']"
      ]
     },
     "execution_count": 77,
     "metadata": {},
     "output_type": "execute_result"
    }
   ],
   "source": [
    "route_info = route.split('\\n')[1].strip().split(' ')\n",
    "route_info"
   ]
  },
  {
   "cell_type": "code",
   "execution_count": 131,
   "id": "b89a0acf-a521-4c73-a72a-c1a5de701611",
   "metadata": {
    "collapsed": true,
    "jupyter": {
     "outputs_hidden": true,
     "source_hidden": true
    },
    "tags": []
   },
   "outputs": [
    {
     "data": {
      "text/plain": [
       "'1'"
      ]
     },
     "execution_count": 131,
     "metadata": {},
     "output_type": "execute_result"
    }
   ],
   "source": [
    "route_number = route[0]\n",
    "route_number"
   ]
  },
  {
   "cell_type": "code",
   "execution_count": 132,
   "id": "5354b732-d3e5-45e3-be52-1137aeb426d1",
   "metadata": {
    "collapsed": true,
    "jupyter": {
     "outputs_hidden": true,
     "source_hidden": true
    },
    "tags": []
   },
   "outputs": [
    {
     "data": {
      "text/plain": [
       "'1 Starting Point: East Hill Street'"
      ]
     },
     "execution_count": 132,
     "metadata": {},
     "output_type": "execute_result"
    }
   ],
   "source": [
    "starting_point = route.split('\\n')[0]\n",
    "starting_point"
   ]
  },
  {
   "cell_type": "code",
   "execution_count": 148,
   "id": "8adfeff7-416f-4096-a025-dbbcfcb8d520",
   "metadata": {
    "collapsed": true,
    "jupyter": {
     "outputs_hidden": true,
     "source_hidden": true
    },
    "tags": []
   },
   "outputs": [
    {
     "data": {
      "text/plain": [
       "['East Hill street',\n",
       " 'East Street',\n",
       " 'Bay Street',\n",
       " 'Mackey Street',\n",
       " 'Rosetta Street',\n",
       " 'Mount Royal Avenue',\n",
       " 'Madeira Street',\n",
       " 'Mackey Street',\n",
       " 'Wulff Road',\n",
       " 'Claridge Road',\n",
       " 'Balfour Avenue',\n",
       " 'East Street',\n",
       " 'East Hill Street Depot',\n",
       " 'Shirley Street',\n",
       " 'Princess',\n",
       " 'Duke',\n",
       " 'Bay Street']"
      ]
     },
     "execution_count": 148,
     "metadata": {},
     "output_type": "execute_result"
    }
   ],
   "source": [
    "street_names = route.split('\\n')[1].split('/')\n",
    "street_names"
   ]
  },
  {
   "cell_type": "code",
   "execution_count": 111,
   "id": "90ebe72c-66c1-4e60-8373-de5d55838e38",
   "metadata": {
    "jupyter": {
     "source_hidden": true
    },
    "tags": []
   },
   "outputs": [],
   "source": [
    "street_names = [name.strip() for name in street_names]"
   ]
  },
  {
   "cell_type": "code",
   "execution_count": 112,
   "id": "f3f78e57-2719-4878-9c03-1cbe284099e0",
   "metadata": {
    "collapsed": true,
    "jupyter": {
     "outputs_hidden": true,
     "source_hidden": true
    },
    "tags": []
   },
   "outputs": [
    {
     "data": {
      "text/plain": [
       "['Kennedy Road',\n",
       " 'Soldier Road',\n",
       " 'Village Road',\n",
       " 'Shirley Street',\n",
       " 'Princess Street',\n",
       " 'Duke Street',\n",
       " 'Cumberland Street',\n",
       " 'Bay Street',\n",
       " 'Frederick Street',\n",
       " 'Market Street',\n",
       " 'Robinson Road',\n",
       " 'Blue Hill Road',\n",
       " 'Soldier Road',\n",
       " 'Kennedy Road']"
      ]
     },
     "execution_count": 112,
     "metadata": {},
     "output_type": "execute_result"
    }
   ],
   "source": [
    "street_names"
   ]
  },
  {
   "cell_type": "code",
   "execution_count": null,
   "id": "3c72e5e6-2408-40f3-8413-79ed738affa9",
   "metadata": {},
   "outputs": [],
   "source": []
  }
 ],
 "metadata": {
  "kernelspec": {
   "display_name": "Python 3 (ipykernel)",
   "language": "python",
   "name": "python3"
  },
  "language_info": {
   "codemirror_mode": {
    "name": "ipython",
    "version": 3
   },
   "file_extension": ".py",
   "mimetype": "text/x-python",
   "name": "python",
   "nbconvert_exporter": "python",
   "pygments_lexer": "ipython3",
   "version": "3.9.7"
  }
 },
 "nbformat": 4,
 "nbformat_minor": 5
}
